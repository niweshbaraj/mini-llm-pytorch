{
  "nbformat": 4,
  "nbformat_minor": 0,
  "metadata": {
    "colab": {
      "provenance": []
    },
    "kernelspec": {
      "name": "python3",
      "display_name": "Python 3"
    },
    "language_info": {
      "name": "python"
    }
  },
  "cells": [
    {
      "cell_type": "markdown",
      "source": [
        "- The most common ways to finetune language models are **instruction**-finetuning and **classification** finetuning\n",
        "- A classification finetuned model can only predict classes it has seen during training (for example, \"spam\" or \"not spam\")\n",
        "- In contrast to the classification fine-tuned model, an instruction\n",
        "fine-tuned model typically can undertake a broader range of tasks.\n",
        "- Classification fine-tuned model can be viewed a as highly specialized model\n",
        "- Generally, it is easier to develop a specialized model than a generalist model that works well across various tasks\n",
        "- Classification fine-tuning is ideal for projects requiring\n",
        "precise categorization of data into predefined classes, such as sentiment analysis or spam detection\n",
        "- Classification fine-tuning requires less data and compute power, but its use is confined to the specific classes on which the model has been trained"
      ],
      "metadata": {
        "id": "FM57bQsV629y"
      }
    },
    {
      "cell_type": "code",
      "source": [
        "from importlib.metadata import version\n",
        "\n",
        "pkgs = [\"matplotlib\",  # Plotting library\n",
        "        \"numpy\",       # PyTorch & TensorFlow dependency\n",
        "        \"tiktoken\",    # Tokenizer\n",
        "        \"torch\",       # Deep learning library\n",
        "        \"tensorflow\",  # For OpenAI's pretrained weights\n",
        "        \"pandas\"       # Dataset loading\n",
        "       ]\n",
        "for p in pkgs:\n",
        "    print(f\"{p} version: {version(p)}\")"
      ],
      "metadata": {
        "colab": {
          "base_uri": "https://localhost:8080/"
        },
        "id": "xgQZtCd777Pj",
        "outputId": "f41e45db-8836-4e8e-ea64-8d9f201afb6a"
      },
      "execution_count": 3,
      "outputs": [
        {
          "output_type": "stream",
          "name": "stdout",
          "text": [
            "matplotlib version: 3.10.0\n",
            "numpy version: 2.0.2\n",
            "tiktoken version: 0.9.0\n",
            "torch version: 2.6.0+cu124\n",
            "tensorflow version: 2.18.0\n",
            "pandas version: 2.2.2\n"
          ]
        }
      ]
    },
    {
      "cell_type": "markdown",
      "source": [
        "### Downloading and Preparing Dataset"
      ],
      "metadata": {
        "id": "JrAY9wwPGv1t"
      }
    },
    {
      "cell_type": "code",
      "execution_count": 4,
      "metadata": {
        "colab": {
          "base_uri": "https://localhost:8080/"
        },
        "id": "s0fhJHO-5hWV",
        "outputId": "99277912-336c-4428-95f0-045c012f5045"
      },
      "outputs": [
        {
          "output_type": "stream",
          "name": "stdout",
          "text": [
            "File downloaded and saved as sms_spam_collection/SMSSpamCollection.tsv\n"
          ]
        }
      ],
      "source": [
        "import urllib.request\n",
        "import zipfile\n",
        "import os\n",
        "from pathlib import Path\n",
        "\n",
        "url = \"https://archive.ics.uci.edu/static/public/228/sms+spam+collection.zip\"\n",
        "zip_path = \"sms_spam_collection.zip\"\n",
        "extracted_path = \"sms_spam_collection\"\n",
        "data_file_path = Path(extracted_path) / \"SMSSpamCollection.tsv\"\n",
        "\n",
        "def download_and_unzip_spam_data(url, zip_path, extracted_path, data_file_path):\n",
        "    if data_file_path.exists():\n",
        "        print(f\"{data_file_path} already exists. Skipping download and extraction.\")\n",
        "        return\n",
        "\n",
        "    # Downloading the file\n",
        "    with urllib.request.urlopen(url) as response:\n",
        "        with open(zip_path, \"wb\") as out_file:\n",
        "            out_file.write(response.read())\n",
        "\n",
        "    # Unzipping the file\n",
        "    with zipfile.ZipFile(zip_path, \"r\") as zip_ref:\n",
        "        zip_ref.extractall(extracted_path)\n",
        "\n",
        "    # Add .tsv file extension\n",
        "    original_file_path = Path(extracted_path) / \"SMSSpamCollection\"\n",
        "    os.rename(original_file_path, data_file_path)\n",
        "    print(f\"File downloaded and saved as {data_file_path}\")\n",
        "\n",
        "try:\n",
        "    download_and_unzip_spam_data(url, zip_path, extracted_path, data_file_path)\n",
        "except (urllib.error.HTTPError, urllib.error.URLError, TimeoutError) as e:\n",
        "    print(f\"Primary URL failed: {e}. Trying backup URL...\")\n",
        "    url = \"https://f001.backblazeb2.com/file/LLMs-from-scratch/sms%2Bspam%2Bcollection.zip\"\n",
        "    download_and_unzip_spam_data(url, zip_path, extracted_path, data_file_path)"
      ]
    },
    {
      "cell_type": "code",
      "source": [
        "data_file_path"
      ],
      "metadata": {
        "colab": {
          "base_uri": "https://localhost:8080/"
        },
        "id": "kgR8fo0jHW0m",
        "outputId": "0ef04813-66a7-4666-8454-c654230e0a7e"
      },
      "execution_count": 5,
      "outputs": [
        {
          "output_type": "execute_result",
          "data": {
            "text/plain": [
              "PosixPath('sms_spam_collection/SMSSpamCollection.tsv')"
            ]
          },
          "metadata": {},
          "execution_count": 5
        }
      ]
    },
    {
      "cell_type": "code",
      "source": [
        "import pandas as pd\n",
        "\n",
        "df = pd.read_csv(data_file_path, sep=\"\\t\", header=None, names=[\"Label\", \"Text\"])\n",
        "df"
      ],
      "metadata": {
        "colab": {
          "base_uri": "https://localhost:8080/",
          "height": 424
        },
        "id": "vbqL_pRrHRWd",
        "outputId": "bf1f6225-f855-4151-f46d-732adf0c9878"
      },
      "execution_count": 6,
      "outputs": [
        {
          "output_type": "execute_result",
          "data": {
            "text/plain": [
              "     Label                                               Text\n",
              "0      ham  Go until jurong point, crazy.. Available only ...\n",
              "1      ham                      Ok lar... Joking wif u oni...\n",
              "2     spam  Free entry in 2 a wkly comp to win FA Cup fina...\n",
              "3      ham  U dun say so early hor... U c already then say...\n",
              "4      ham  Nah I don't think he goes to usf, he lives aro...\n",
              "...    ...                                                ...\n",
              "5567  spam  This is the 2nd time we have tried 2 contact u...\n",
              "5568   ham               Will ü b going to esplanade fr home?\n",
              "5569   ham  Pity, * was in mood for that. So...any other s...\n",
              "5570   ham  The guy did some bitching but I acted like i'd...\n",
              "5571   ham                         Rofl. Its true to its name\n",
              "\n",
              "[5572 rows x 2 columns]"
            ],
            "text/html": [
              "\n",
              "  <div id=\"df-35ab111d-da30-433a-858e-30120ecf4654\" class=\"colab-df-container\">\n",
              "    <div>\n",
              "<style scoped>\n",
              "    .dataframe tbody tr th:only-of-type {\n",
              "        vertical-align: middle;\n",
              "    }\n",
              "\n",
              "    .dataframe tbody tr th {\n",
              "        vertical-align: top;\n",
              "    }\n",
              "\n",
              "    .dataframe thead th {\n",
              "        text-align: right;\n",
              "    }\n",
              "</style>\n",
              "<table border=\"1\" class=\"dataframe\">\n",
              "  <thead>\n",
              "    <tr style=\"text-align: right;\">\n",
              "      <th></th>\n",
              "      <th>Label</th>\n",
              "      <th>Text</th>\n",
              "    </tr>\n",
              "  </thead>\n",
              "  <tbody>\n",
              "    <tr>\n",
              "      <th>0</th>\n",
              "      <td>ham</td>\n",
              "      <td>Go until jurong point, crazy.. Available only ...</td>\n",
              "    </tr>\n",
              "    <tr>\n",
              "      <th>1</th>\n",
              "      <td>ham</td>\n",
              "      <td>Ok lar... Joking wif u oni...</td>\n",
              "    </tr>\n",
              "    <tr>\n",
              "      <th>2</th>\n",
              "      <td>spam</td>\n",
              "      <td>Free entry in 2 a wkly comp to win FA Cup fina...</td>\n",
              "    </tr>\n",
              "    <tr>\n",
              "      <th>3</th>\n",
              "      <td>ham</td>\n",
              "      <td>U dun say so early hor... U c already then say...</td>\n",
              "    </tr>\n",
              "    <tr>\n",
              "      <th>4</th>\n",
              "      <td>ham</td>\n",
              "      <td>Nah I don't think he goes to usf, he lives aro...</td>\n",
              "    </tr>\n",
              "    <tr>\n",
              "      <th>...</th>\n",
              "      <td>...</td>\n",
              "      <td>...</td>\n",
              "    </tr>\n",
              "    <tr>\n",
              "      <th>5567</th>\n",
              "      <td>spam</td>\n",
              "      <td>This is the 2nd time we have tried 2 contact u...</td>\n",
              "    </tr>\n",
              "    <tr>\n",
              "      <th>5568</th>\n",
              "      <td>ham</td>\n",
              "      <td>Will ü b going to esplanade fr home?</td>\n",
              "    </tr>\n",
              "    <tr>\n",
              "      <th>5569</th>\n",
              "      <td>ham</td>\n",
              "      <td>Pity, * was in mood for that. So...any other s...</td>\n",
              "    </tr>\n",
              "    <tr>\n",
              "      <th>5570</th>\n",
              "      <td>ham</td>\n",
              "      <td>The guy did some bitching but I acted like i'd...</td>\n",
              "    </tr>\n",
              "    <tr>\n",
              "      <th>5571</th>\n",
              "      <td>ham</td>\n",
              "      <td>Rofl. Its true to its name</td>\n",
              "    </tr>\n",
              "  </tbody>\n",
              "</table>\n",
              "<p>5572 rows × 2 columns</p>\n",
              "</div>\n",
              "    <div class=\"colab-df-buttons\">\n",
              "\n",
              "  <div class=\"colab-df-container\">\n",
              "    <button class=\"colab-df-convert\" onclick=\"convertToInteractive('df-35ab111d-da30-433a-858e-30120ecf4654')\"\n",
              "            title=\"Convert this dataframe to an interactive table.\"\n",
              "            style=\"display:none;\">\n",
              "\n",
              "  <svg xmlns=\"http://www.w3.org/2000/svg\" height=\"24px\" viewBox=\"0 -960 960 960\">\n",
              "    <path d=\"M120-120v-720h720v720H120Zm60-500h600v-160H180v160Zm220 220h160v-160H400v160Zm0 220h160v-160H400v160ZM180-400h160v-160H180v160Zm440 0h160v-160H620v160ZM180-180h160v-160H180v160Zm440 0h160v-160H620v160Z\"/>\n",
              "  </svg>\n",
              "    </button>\n",
              "\n",
              "  <style>\n",
              "    .colab-df-container {\n",
              "      display:flex;\n",
              "      gap: 12px;\n",
              "    }\n",
              "\n",
              "    .colab-df-convert {\n",
              "      background-color: #E8F0FE;\n",
              "      border: none;\n",
              "      border-radius: 50%;\n",
              "      cursor: pointer;\n",
              "      display: none;\n",
              "      fill: #1967D2;\n",
              "      height: 32px;\n",
              "      padding: 0 0 0 0;\n",
              "      width: 32px;\n",
              "    }\n",
              "\n",
              "    .colab-df-convert:hover {\n",
              "      background-color: #E2EBFA;\n",
              "      box-shadow: 0px 1px 2px rgba(60, 64, 67, 0.3), 0px 1px 3px 1px rgba(60, 64, 67, 0.15);\n",
              "      fill: #174EA6;\n",
              "    }\n",
              "\n",
              "    .colab-df-buttons div {\n",
              "      margin-bottom: 4px;\n",
              "    }\n",
              "\n",
              "    [theme=dark] .colab-df-convert {\n",
              "      background-color: #3B4455;\n",
              "      fill: #D2E3FC;\n",
              "    }\n",
              "\n",
              "    [theme=dark] .colab-df-convert:hover {\n",
              "      background-color: #434B5C;\n",
              "      box-shadow: 0px 1px 3px 1px rgba(0, 0, 0, 0.15);\n",
              "      filter: drop-shadow(0px 1px 2px rgba(0, 0, 0, 0.3));\n",
              "      fill: #FFFFFF;\n",
              "    }\n",
              "  </style>\n",
              "\n",
              "    <script>\n",
              "      const buttonEl =\n",
              "        document.querySelector('#df-35ab111d-da30-433a-858e-30120ecf4654 button.colab-df-convert');\n",
              "      buttonEl.style.display =\n",
              "        google.colab.kernel.accessAllowed ? 'block' : 'none';\n",
              "\n",
              "      async function convertToInteractive(key) {\n",
              "        const element = document.querySelector('#df-35ab111d-da30-433a-858e-30120ecf4654');\n",
              "        const dataTable =\n",
              "          await google.colab.kernel.invokeFunction('convertToInteractive',\n",
              "                                                    [key], {});\n",
              "        if (!dataTable) return;\n",
              "\n",
              "        const docLinkHtml = 'Like what you see? Visit the ' +\n",
              "          '<a target=\"_blank\" href=https://colab.research.google.com/notebooks/data_table.ipynb>data table notebook</a>'\n",
              "          + ' to learn more about interactive tables.';\n",
              "        element.innerHTML = '';\n",
              "        dataTable['output_type'] = 'display_data';\n",
              "        await google.colab.output.renderOutput(dataTable, element);\n",
              "        const docLink = document.createElement('div');\n",
              "        docLink.innerHTML = docLinkHtml;\n",
              "        element.appendChild(docLink);\n",
              "      }\n",
              "    </script>\n",
              "  </div>\n",
              "\n",
              "\n",
              "    <div id=\"df-a5ff2a9b-5cb5-48d5-b192-92448c53331f\">\n",
              "      <button class=\"colab-df-quickchart\" onclick=\"quickchart('df-a5ff2a9b-5cb5-48d5-b192-92448c53331f')\"\n",
              "                title=\"Suggest charts\"\n",
              "                style=\"display:none;\">\n",
              "\n",
              "<svg xmlns=\"http://www.w3.org/2000/svg\" height=\"24px\"viewBox=\"0 0 24 24\"\n",
              "     width=\"24px\">\n",
              "    <g>\n",
              "        <path d=\"M19 3H5c-1.1 0-2 .9-2 2v14c0 1.1.9 2 2 2h14c1.1 0 2-.9 2-2V5c0-1.1-.9-2-2-2zM9 17H7v-7h2v7zm4 0h-2V7h2v10zm4 0h-2v-4h2v4z\"/>\n",
              "    </g>\n",
              "</svg>\n",
              "      </button>\n",
              "\n",
              "<style>\n",
              "  .colab-df-quickchart {\n",
              "      --bg-color: #E8F0FE;\n",
              "      --fill-color: #1967D2;\n",
              "      --hover-bg-color: #E2EBFA;\n",
              "      --hover-fill-color: #174EA6;\n",
              "      --disabled-fill-color: #AAA;\n",
              "      --disabled-bg-color: #DDD;\n",
              "  }\n",
              "\n",
              "  [theme=dark] .colab-df-quickchart {\n",
              "      --bg-color: #3B4455;\n",
              "      --fill-color: #D2E3FC;\n",
              "      --hover-bg-color: #434B5C;\n",
              "      --hover-fill-color: #FFFFFF;\n",
              "      --disabled-bg-color: #3B4455;\n",
              "      --disabled-fill-color: #666;\n",
              "  }\n",
              "\n",
              "  .colab-df-quickchart {\n",
              "    background-color: var(--bg-color);\n",
              "    border: none;\n",
              "    border-radius: 50%;\n",
              "    cursor: pointer;\n",
              "    display: none;\n",
              "    fill: var(--fill-color);\n",
              "    height: 32px;\n",
              "    padding: 0;\n",
              "    width: 32px;\n",
              "  }\n",
              "\n",
              "  .colab-df-quickchart:hover {\n",
              "    background-color: var(--hover-bg-color);\n",
              "    box-shadow: 0 1px 2px rgba(60, 64, 67, 0.3), 0 1px 3px 1px rgba(60, 64, 67, 0.15);\n",
              "    fill: var(--button-hover-fill-color);\n",
              "  }\n",
              "\n",
              "  .colab-df-quickchart-complete:disabled,\n",
              "  .colab-df-quickchart-complete:disabled:hover {\n",
              "    background-color: var(--disabled-bg-color);\n",
              "    fill: var(--disabled-fill-color);\n",
              "    box-shadow: none;\n",
              "  }\n",
              "\n",
              "  .colab-df-spinner {\n",
              "    border: 2px solid var(--fill-color);\n",
              "    border-color: transparent;\n",
              "    border-bottom-color: var(--fill-color);\n",
              "    animation:\n",
              "      spin 1s steps(1) infinite;\n",
              "  }\n",
              "\n",
              "  @keyframes spin {\n",
              "    0% {\n",
              "      border-color: transparent;\n",
              "      border-bottom-color: var(--fill-color);\n",
              "      border-left-color: var(--fill-color);\n",
              "    }\n",
              "    20% {\n",
              "      border-color: transparent;\n",
              "      border-left-color: var(--fill-color);\n",
              "      border-top-color: var(--fill-color);\n",
              "    }\n",
              "    30% {\n",
              "      border-color: transparent;\n",
              "      border-left-color: var(--fill-color);\n",
              "      border-top-color: var(--fill-color);\n",
              "      border-right-color: var(--fill-color);\n",
              "    }\n",
              "    40% {\n",
              "      border-color: transparent;\n",
              "      border-right-color: var(--fill-color);\n",
              "      border-top-color: var(--fill-color);\n",
              "    }\n",
              "    60% {\n",
              "      border-color: transparent;\n",
              "      border-right-color: var(--fill-color);\n",
              "    }\n",
              "    80% {\n",
              "      border-color: transparent;\n",
              "      border-right-color: var(--fill-color);\n",
              "      border-bottom-color: var(--fill-color);\n",
              "    }\n",
              "    90% {\n",
              "      border-color: transparent;\n",
              "      border-bottom-color: var(--fill-color);\n",
              "    }\n",
              "  }\n",
              "</style>\n",
              "\n",
              "      <script>\n",
              "        async function quickchart(key) {\n",
              "          const quickchartButtonEl =\n",
              "            document.querySelector('#' + key + ' button');\n",
              "          quickchartButtonEl.disabled = true;  // To prevent multiple clicks.\n",
              "          quickchartButtonEl.classList.add('colab-df-spinner');\n",
              "          try {\n",
              "            const charts = await google.colab.kernel.invokeFunction(\n",
              "                'suggestCharts', [key], {});\n",
              "          } catch (error) {\n",
              "            console.error('Error during call to suggestCharts:', error);\n",
              "          }\n",
              "          quickchartButtonEl.classList.remove('colab-df-spinner');\n",
              "          quickchartButtonEl.classList.add('colab-df-quickchart-complete');\n",
              "        }\n",
              "        (() => {\n",
              "          let quickchartButtonEl =\n",
              "            document.querySelector('#df-a5ff2a9b-5cb5-48d5-b192-92448c53331f button');\n",
              "          quickchartButtonEl.style.display =\n",
              "            google.colab.kernel.accessAllowed ? 'block' : 'none';\n",
              "        })();\n",
              "      </script>\n",
              "    </div>\n",
              "\n",
              "  <div id=\"id_212d7279-c4d2-4769-a894-7320b48b7a45\">\n",
              "    <style>\n",
              "      .colab-df-generate {\n",
              "        background-color: #E8F0FE;\n",
              "        border: none;\n",
              "        border-radius: 50%;\n",
              "        cursor: pointer;\n",
              "        display: none;\n",
              "        fill: #1967D2;\n",
              "        height: 32px;\n",
              "        padding: 0 0 0 0;\n",
              "        width: 32px;\n",
              "      }\n",
              "\n",
              "      .colab-df-generate:hover {\n",
              "        background-color: #E2EBFA;\n",
              "        box-shadow: 0px 1px 2px rgba(60, 64, 67, 0.3), 0px 1px 3px 1px rgba(60, 64, 67, 0.15);\n",
              "        fill: #174EA6;\n",
              "      }\n",
              "\n",
              "      [theme=dark] .colab-df-generate {\n",
              "        background-color: #3B4455;\n",
              "        fill: #D2E3FC;\n",
              "      }\n",
              "\n",
              "      [theme=dark] .colab-df-generate:hover {\n",
              "        background-color: #434B5C;\n",
              "        box-shadow: 0px 1px 3px 1px rgba(0, 0, 0, 0.15);\n",
              "        filter: drop-shadow(0px 1px 2px rgba(0, 0, 0, 0.3));\n",
              "        fill: #FFFFFF;\n",
              "      }\n",
              "    </style>\n",
              "    <button class=\"colab-df-generate\" onclick=\"generateWithVariable('df')\"\n",
              "            title=\"Generate code using this dataframe.\"\n",
              "            style=\"display:none;\">\n",
              "\n",
              "  <svg xmlns=\"http://www.w3.org/2000/svg\" height=\"24px\"viewBox=\"0 0 24 24\"\n",
              "       width=\"24px\">\n",
              "    <path d=\"M7,19H8.4L18.45,9,17,7.55,7,17.6ZM5,21V16.75L18.45,3.32a2,2,0,0,1,2.83,0l1.4,1.43a1.91,1.91,0,0,1,.58,1.4,1.91,1.91,0,0,1-.58,1.4L9.25,21ZM18.45,9,17,7.55Zm-12,3A5.31,5.31,0,0,0,4.9,8.1,5.31,5.31,0,0,0,1,6.5,5.31,5.31,0,0,0,4.9,4.9,5.31,5.31,0,0,0,6.5,1,5.31,5.31,0,0,0,8.1,4.9,5.31,5.31,0,0,0,12,6.5,5.46,5.46,0,0,0,6.5,12Z\"/>\n",
              "  </svg>\n",
              "    </button>\n",
              "    <script>\n",
              "      (() => {\n",
              "      const buttonEl =\n",
              "        document.querySelector('#id_212d7279-c4d2-4769-a894-7320b48b7a45 button.colab-df-generate');\n",
              "      buttonEl.style.display =\n",
              "        google.colab.kernel.accessAllowed ? 'block' : 'none';\n",
              "\n",
              "      buttonEl.onclick = () => {\n",
              "        google.colab.notebook.generateWithVariable('df');\n",
              "      }\n",
              "      })();\n",
              "    </script>\n",
              "  </div>\n",
              "\n",
              "    </div>\n",
              "  </div>\n"
            ],
            "application/vnd.google.colaboratory.intrinsic+json": {
              "type": "dataframe",
              "variable_name": "df",
              "summary": "{\n  \"name\": \"df\",\n  \"rows\": 5572,\n  \"fields\": [\n    {\n      \"column\": \"Label\",\n      \"properties\": {\n        \"dtype\": \"category\",\n        \"num_unique_values\": 2,\n        \"samples\": [\n          \"spam\",\n          \"ham\"\n        ],\n        \"semantic_type\": \"\",\n        \"description\": \"\"\n      }\n    },\n    {\n      \"column\": \"Text\",\n      \"properties\": {\n        \"dtype\": \"string\",\n        \"num_unique_values\": 5169,\n        \"samples\": [\n          \"K, makes sense, btw carlos is being difficult so you guys are gonna smoke while I go pick up the second batch and get gas\",\n          \"URGENT! Your mobile No *********** WON a \\u00a32,000 Bonus Caller Prize on 02/06/03! This is the 2nd attempt to reach YOU! Call 09066362220 ASAP! BOX97N7QP, 150ppm\"\n        ],\n        \"semantic_type\": \"\",\n        \"description\": \"\"\n      }\n    }\n  ]\n}"
            }
          },
          "metadata": {},
          "execution_count": 6
        }
      ]
    },
    {
      "cell_type": "code",
      "source": [
        "df.info()"
      ],
      "metadata": {
        "colab": {
          "base_uri": "https://localhost:8080/"
        },
        "id": "NKPt5j-FHjx0",
        "outputId": "627bce05-3d98-4e2e-c05f-bfadd6c638c5"
      },
      "execution_count": 7,
      "outputs": [
        {
          "output_type": "stream",
          "name": "stdout",
          "text": [
            "<class 'pandas.core.frame.DataFrame'>\n",
            "RangeIndex: 5572 entries, 0 to 5571\n",
            "Data columns (total 2 columns):\n",
            " #   Column  Non-Null Count  Dtype \n",
            "---  ------  --------------  ----- \n",
            " 0   Label   5572 non-null   object\n",
            " 1   Text    5572 non-null   object\n",
            "dtypes: object(2)\n",
            "memory usage: 87.2+ KB\n"
          ]
        }
      ]
    },
    {
      "cell_type": "code",
      "source": [
        "print(df[\"Label\"].value_counts())"
      ],
      "metadata": {
        "colab": {
          "base_uri": "https://localhost:8080/"
        },
        "id": "jLicwUqTHeNz",
        "outputId": "95bdbf09-1ea6-4536-f8b5-515dde0e5d7f"
      },
      "execution_count": 8,
      "outputs": [
        {
          "output_type": "stream",
          "name": "stdout",
          "text": [
            "Label\n",
            "ham     4825\n",
            "spam     747\n",
            "Name: count, dtype: int64\n"
          ]
        }
      ]
    },
    {
      "cell_type": "markdown",
      "source": [
        "- Subsampling (undersampling) the dataset so that it contains 747 instances from each class to finetune LLM faster (for simplicity)"
      ],
      "metadata": {
        "id": "z_ggRM7IIKu-"
      }
    },
    {
      "cell_type": "code",
      "source": [
        "def create_balanced_dataset(df):\n",
        "\n",
        "    # Count the instances of \"spam\"\n",
        "    num_spam = df[df[\"Label\"] == \"spam\"].shape[0]\n",
        "\n",
        "    # Randomly sample \"ham\" instances to match the number of \"spam\" instances\n",
        "    ham_subset = df[df[\"Label\"] == \"ham\"].sample(num_spam, random_state=123)\n",
        "\n",
        "    # Combine ham \"subset\" with \"spam\"\n",
        "    balanced_df = pd.concat([ham_subset, df[df[\"Label\"] == \"spam\"]])\n",
        "\n",
        "    return balanced_df"
      ],
      "metadata": {
        "id": "mjM-83sjIq6D"
      },
      "execution_count": 9,
      "outputs": []
    },
    {
      "cell_type": "code",
      "source": [
        "balanced_df = create_balanced_dataset(df)\n",
        "print(balanced_df[\"Label\"].value_counts())"
      ],
      "metadata": {
        "colab": {
          "base_uri": "https://localhost:8080/"
        },
        "id": "ab2ZymaUI5DG",
        "outputId": "73e5d30e-67d3-4338-f8ab-8961d942a93d"
      },
      "execution_count": 10,
      "outputs": [
        {
          "output_type": "stream",
          "name": "stdout",
          "text": [
            "Label\n",
            "ham     747\n",
            "spam    747\n",
            "Name: count, dtype: int64\n"
          ]
        }
      ]
    },
    {
      "cell_type": "code",
      "source": [
        "# change string class labels \"ham\" and \"spam\" into integer class labels 0 and 1\n",
        "balanced_df[\"Label\"] = balanced_df[\"Label\"].map({\"ham\": 0, \"spam\": 1})"
      ],
      "metadata": {
        "id": "WNrmLhjpI9pO"
      },
      "execution_count": 11,
      "outputs": []
    },
    {
      "cell_type": "code",
      "source": [
        "balanced_df"
      ],
      "metadata": {
        "colab": {
          "base_uri": "https://localhost:8080/",
          "height": 424
        },
        "id": "P3EfBDN5I_Fk",
        "outputId": "3f2e0f32-1bb0-4c48-d670-07c6f55a3d19"
      },
      "execution_count": 12,
      "outputs": [
        {
          "output_type": "execute_result",
          "data": {
            "text/plain": [
              "      Label                                               Text\n",
              "4307      0  Awww dat is sweet! We can think of something t...\n",
              "4138      0                             Just got to  &lt;#&gt;\n",
              "4831      0  The word \"Checkmate\" in chess comes from the P...\n",
              "4461      0  This is wishing you a great day. Moji told me ...\n",
              "5440      0      Thank you. do you generally date the brothas?\n",
              "...     ...                                                ...\n",
              "5537      1  Want explicit SEX in 30 secs? Ring 02073162414...\n",
              "5540      1  ASKED 3MOBILE IF 0870 CHATLINES INCLU IN FREE ...\n",
              "5547      1  Had your contract mobile 11 Mnths? Latest Moto...\n",
              "5566      1  REMINDER FROM O2: To get 2.50 pounds free call...\n",
              "5567      1  This is the 2nd time we have tried 2 contact u...\n",
              "\n",
              "[1494 rows x 2 columns]"
            ],
            "text/html": [
              "\n",
              "  <div id=\"df-8b7f7e7a-0d48-4cb5-9da2-7a3be9c8e97f\" class=\"colab-df-container\">\n",
              "    <div>\n",
              "<style scoped>\n",
              "    .dataframe tbody tr th:only-of-type {\n",
              "        vertical-align: middle;\n",
              "    }\n",
              "\n",
              "    .dataframe tbody tr th {\n",
              "        vertical-align: top;\n",
              "    }\n",
              "\n",
              "    .dataframe thead th {\n",
              "        text-align: right;\n",
              "    }\n",
              "</style>\n",
              "<table border=\"1\" class=\"dataframe\">\n",
              "  <thead>\n",
              "    <tr style=\"text-align: right;\">\n",
              "      <th></th>\n",
              "      <th>Label</th>\n",
              "      <th>Text</th>\n",
              "    </tr>\n",
              "  </thead>\n",
              "  <tbody>\n",
              "    <tr>\n",
              "      <th>4307</th>\n",
              "      <td>0</td>\n",
              "      <td>Awww dat is sweet! We can think of something t...</td>\n",
              "    </tr>\n",
              "    <tr>\n",
              "      <th>4138</th>\n",
              "      <td>0</td>\n",
              "      <td>Just got to  &amp;lt;#&amp;gt;</td>\n",
              "    </tr>\n",
              "    <tr>\n",
              "      <th>4831</th>\n",
              "      <td>0</td>\n",
              "      <td>The word \"Checkmate\" in chess comes from the P...</td>\n",
              "    </tr>\n",
              "    <tr>\n",
              "      <th>4461</th>\n",
              "      <td>0</td>\n",
              "      <td>This is wishing you a great day. Moji told me ...</td>\n",
              "    </tr>\n",
              "    <tr>\n",
              "      <th>5440</th>\n",
              "      <td>0</td>\n",
              "      <td>Thank you. do you generally date the brothas?</td>\n",
              "    </tr>\n",
              "    <tr>\n",
              "      <th>...</th>\n",
              "      <td>...</td>\n",
              "      <td>...</td>\n",
              "    </tr>\n",
              "    <tr>\n",
              "      <th>5537</th>\n",
              "      <td>1</td>\n",
              "      <td>Want explicit SEX in 30 secs? Ring 02073162414...</td>\n",
              "    </tr>\n",
              "    <tr>\n",
              "      <th>5540</th>\n",
              "      <td>1</td>\n",
              "      <td>ASKED 3MOBILE IF 0870 CHATLINES INCLU IN FREE ...</td>\n",
              "    </tr>\n",
              "    <tr>\n",
              "      <th>5547</th>\n",
              "      <td>1</td>\n",
              "      <td>Had your contract mobile 11 Mnths? Latest Moto...</td>\n",
              "    </tr>\n",
              "    <tr>\n",
              "      <th>5566</th>\n",
              "      <td>1</td>\n",
              "      <td>REMINDER FROM O2: To get 2.50 pounds free call...</td>\n",
              "    </tr>\n",
              "    <tr>\n",
              "      <th>5567</th>\n",
              "      <td>1</td>\n",
              "      <td>This is the 2nd time we have tried 2 contact u...</td>\n",
              "    </tr>\n",
              "  </tbody>\n",
              "</table>\n",
              "<p>1494 rows × 2 columns</p>\n",
              "</div>\n",
              "    <div class=\"colab-df-buttons\">\n",
              "\n",
              "  <div class=\"colab-df-container\">\n",
              "    <button class=\"colab-df-convert\" onclick=\"convertToInteractive('df-8b7f7e7a-0d48-4cb5-9da2-7a3be9c8e97f')\"\n",
              "            title=\"Convert this dataframe to an interactive table.\"\n",
              "            style=\"display:none;\">\n",
              "\n",
              "  <svg xmlns=\"http://www.w3.org/2000/svg\" height=\"24px\" viewBox=\"0 -960 960 960\">\n",
              "    <path d=\"M120-120v-720h720v720H120Zm60-500h600v-160H180v160Zm220 220h160v-160H400v160Zm0 220h160v-160H400v160ZM180-400h160v-160H180v160Zm440 0h160v-160H620v160ZM180-180h160v-160H180v160Zm440 0h160v-160H620v160Z\"/>\n",
              "  </svg>\n",
              "    </button>\n",
              "\n",
              "  <style>\n",
              "    .colab-df-container {\n",
              "      display:flex;\n",
              "      gap: 12px;\n",
              "    }\n",
              "\n",
              "    .colab-df-convert {\n",
              "      background-color: #E8F0FE;\n",
              "      border: none;\n",
              "      border-radius: 50%;\n",
              "      cursor: pointer;\n",
              "      display: none;\n",
              "      fill: #1967D2;\n",
              "      height: 32px;\n",
              "      padding: 0 0 0 0;\n",
              "      width: 32px;\n",
              "    }\n",
              "\n",
              "    .colab-df-convert:hover {\n",
              "      background-color: #E2EBFA;\n",
              "      box-shadow: 0px 1px 2px rgba(60, 64, 67, 0.3), 0px 1px 3px 1px rgba(60, 64, 67, 0.15);\n",
              "      fill: #174EA6;\n",
              "    }\n",
              "\n",
              "    .colab-df-buttons div {\n",
              "      margin-bottom: 4px;\n",
              "    }\n",
              "\n",
              "    [theme=dark] .colab-df-convert {\n",
              "      background-color: #3B4455;\n",
              "      fill: #D2E3FC;\n",
              "    }\n",
              "\n",
              "    [theme=dark] .colab-df-convert:hover {\n",
              "      background-color: #434B5C;\n",
              "      box-shadow: 0px 1px 3px 1px rgba(0, 0, 0, 0.15);\n",
              "      filter: drop-shadow(0px 1px 2px rgba(0, 0, 0, 0.3));\n",
              "      fill: #FFFFFF;\n",
              "    }\n",
              "  </style>\n",
              "\n",
              "    <script>\n",
              "      const buttonEl =\n",
              "        document.querySelector('#df-8b7f7e7a-0d48-4cb5-9da2-7a3be9c8e97f button.colab-df-convert');\n",
              "      buttonEl.style.display =\n",
              "        google.colab.kernel.accessAllowed ? 'block' : 'none';\n",
              "\n",
              "      async function convertToInteractive(key) {\n",
              "        const element = document.querySelector('#df-8b7f7e7a-0d48-4cb5-9da2-7a3be9c8e97f');\n",
              "        const dataTable =\n",
              "          await google.colab.kernel.invokeFunction('convertToInteractive',\n",
              "                                                    [key], {});\n",
              "        if (!dataTable) return;\n",
              "\n",
              "        const docLinkHtml = 'Like what you see? Visit the ' +\n",
              "          '<a target=\"_blank\" href=https://colab.research.google.com/notebooks/data_table.ipynb>data table notebook</a>'\n",
              "          + ' to learn more about interactive tables.';\n",
              "        element.innerHTML = '';\n",
              "        dataTable['output_type'] = 'display_data';\n",
              "        await google.colab.output.renderOutput(dataTable, element);\n",
              "        const docLink = document.createElement('div');\n",
              "        docLink.innerHTML = docLinkHtml;\n",
              "        element.appendChild(docLink);\n",
              "      }\n",
              "    </script>\n",
              "  </div>\n",
              "\n",
              "\n",
              "    <div id=\"df-31736151-54c4-490f-8d08-4d4dfb851e0e\">\n",
              "      <button class=\"colab-df-quickchart\" onclick=\"quickchart('df-31736151-54c4-490f-8d08-4d4dfb851e0e')\"\n",
              "                title=\"Suggest charts\"\n",
              "                style=\"display:none;\">\n",
              "\n",
              "<svg xmlns=\"http://www.w3.org/2000/svg\" height=\"24px\"viewBox=\"0 0 24 24\"\n",
              "     width=\"24px\">\n",
              "    <g>\n",
              "        <path d=\"M19 3H5c-1.1 0-2 .9-2 2v14c0 1.1.9 2 2 2h14c1.1 0 2-.9 2-2V5c0-1.1-.9-2-2-2zM9 17H7v-7h2v7zm4 0h-2V7h2v10zm4 0h-2v-4h2v4z\"/>\n",
              "    </g>\n",
              "</svg>\n",
              "      </button>\n",
              "\n",
              "<style>\n",
              "  .colab-df-quickchart {\n",
              "      --bg-color: #E8F0FE;\n",
              "      --fill-color: #1967D2;\n",
              "      --hover-bg-color: #E2EBFA;\n",
              "      --hover-fill-color: #174EA6;\n",
              "      --disabled-fill-color: #AAA;\n",
              "      --disabled-bg-color: #DDD;\n",
              "  }\n",
              "\n",
              "  [theme=dark] .colab-df-quickchart {\n",
              "      --bg-color: #3B4455;\n",
              "      --fill-color: #D2E3FC;\n",
              "      --hover-bg-color: #434B5C;\n",
              "      --hover-fill-color: #FFFFFF;\n",
              "      --disabled-bg-color: #3B4455;\n",
              "      --disabled-fill-color: #666;\n",
              "  }\n",
              "\n",
              "  .colab-df-quickchart {\n",
              "    background-color: var(--bg-color);\n",
              "    border: none;\n",
              "    border-radius: 50%;\n",
              "    cursor: pointer;\n",
              "    display: none;\n",
              "    fill: var(--fill-color);\n",
              "    height: 32px;\n",
              "    padding: 0;\n",
              "    width: 32px;\n",
              "  }\n",
              "\n",
              "  .colab-df-quickchart:hover {\n",
              "    background-color: var(--hover-bg-color);\n",
              "    box-shadow: 0 1px 2px rgba(60, 64, 67, 0.3), 0 1px 3px 1px rgba(60, 64, 67, 0.15);\n",
              "    fill: var(--button-hover-fill-color);\n",
              "  }\n",
              "\n",
              "  .colab-df-quickchart-complete:disabled,\n",
              "  .colab-df-quickchart-complete:disabled:hover {\n",
              "    background-color: var(--disabled-bg-color);\n",
              "    fill: var(--disabled-fill-color);\n",
              "    box-shadow: none;\n",
              "  }\n",
              "\n",
              "  .colab-df-spinner {\n",
              "    border: 2px solid var(--fill-color);\n",
              "    border-color: transparent;\n",
              "    border-bottom-color: var(--fill-color);\n",
              "    animation:\n",
              "      spin 1s steps(1) infinite;\n",
              "  }\n",
              "\n",
              "  @keyframes spin {\n",
              "    0% {\n",
              "      border-color: transparent;\n",
              "      border-bottom-color: var(--fill-color);\n",
              "      border-left-color: var(--fill-color);\n",
              "    }\n",
              "    20% {\n",
              "      border-color: transparent;\n",
              "      border-left-color: var(--fill-color);\n",
              "      border-top-color: var(--fill-color);\n",
              "    }\n",
              "    30% {\n",
              "      border-color: transparent;\n",
              "      border-left-color: var(--fill-color);\n",
              "      border-top-color: var(--fill-color);\n",
              "      border-right-color: var(--fill-color);\n",
              "    }\n",
              "    40% {\n",
              "      border-color: transparent;\n",
              "      border-right-color: var(--fill-color);\n",
              "      border-top-color: var(--fill-color);\n",
              "    }\n",
              "    60% {\n",
              "      border-color: transparent;\n",
              "      border-right-color: var(--fill-color);\n",
              "    }\n",
              "    80% {\n",
              "      border-color: transparent;\n",
              "      border-right-color: var(--fill-color);\n",
              "      border-bottom-color: var(--fill-color);\n",
              "    }\n",
              "    90% {\n",
              "      border-color: transparent;\n",
              "      border-bottom-color: var(--fill-color);\n",
              "    }\n",
              "  }\n",
              "</style>\n",
              "\n",
              "      <script>\n",
              "        async function quickchart(key) {\n",
              "          const quickchartButtonEl =\n",
              "            document.querySelector('#' + key + ' button');\n",
              "          quickchartButtonEl.disabled = true;  // To prevent multiple clicks.\n",
              "          quickchartButtonEl.classList.add('colab-df-spinner');\n",
              "          try {\n",
              "            const charts = await google.colab.kernel.invokeFunction(\n",
              "                'suggestCharts', [key], {});\n",
              "          } catch (error) {\n",
              "            console.error('Error during call to suggestCharts:', error);\n",
              "          }\n",
              "          quickchartButtonEl.classList.remove('colab-df-spinner');\n",
              "          quickchartButtonEl.classList.add('colab-df-quickchart-complete');\n",
              "        }\n",
              "        (() => {\n",
              "          let quickchartButtonEl =\n",
              "            document.querySelector('#df-31736151-54c4-490f-8d08-4d4dfb851e0e button');\n",
              "          quickchartButtonEl.style.display =\n",
              "            google.colab.kernel.accessAllowed ? 'block' : 'none';\n",
              "        })();\n",
              "      </script>\n",
              "    </div>\n",
              "\n",
              "  <div id=\"id_d02edf20-f0e3-4ffc-b5c4-deb7519c9f84\">\n",
              "    <style>\n",
              "      .colab-df-generate {\n",
              "        background-color: #E8F0FE;\n",
              "        border: none;\n",
              "        border-radius: 50%;\n",
              "        cursor: pointer;\n",
              "        display: none;\n",
              "        fill: #1967D2;\n",
              "        height: 32px;\n",
              "        padding: 0 0 0 0;\n",
              "        width: 32px;\n",
              "      }\n",
              "\n",
              "      .colab-df-generate:hover {\n",
              "        background-color: #E2EBFA;\n",
              "        box-shadow: 0px 1px 2px rgba(60, 64, 67, 0.3), 0px 1px 3px 1px rgba(60, 64, 67, 0.15);\n",
              "        fill: #174EA6;\n",
              "      }\n",
              "\n",
              "      [theme=dark] .colab-df-generate {\n",
              "        background-color: #3B4455;\n",
              "        fill: #D2E3FC;\n",
              "      }\n",
              "\n",
              "      [theme=dark] .colab-df-generate:hover {\n",
              "        background-color: #434B5C;\n",
              "        box-shadow: 0px 1px 3px 1px rgba(0, 0, 0, 0.15);\n",
              "        filter: drop-shadow(0px 1px 2px rgba(0, 0, 0, 0.3));\n",
              "        fill: #FFFFFF;\n",
              "      }\n",
              "    </style>\n",
              "    <button class=\"colab-df-generate\" onclick=\"generateWithVariable('balanced_df')\"\n",
              "            title=\"Generate code using this dataframe.\"\n",
              "            style=\"display:none;\">\n",
              "\n",
              "  <svg xmlns=\"http://www.w3.org/2000/svg\" height=\"24px\"viewBox=\"0 0 24 24\"\n",
              "       width=\"24px\">\n",
              "    <path d=\"M7,19H8.4L18.45,9,17,7.55,7,17.6ZM5,21V16.75L18.45,3.32a2,2,0,0,1,2.83,0l1.4,1.43a1.91,1.91,0,0,1,.58,1.4,1.91,1.91,0,0,1-.58,1.4L9.25,21ZM18.45,9,17,7.55Zm-12,3A5.31,5.31,0,0,0,4.9,8.1,5.31,5.31,0,0,0,1,6.5,5.31,5.31,0,0,0,4.9,4.9,5.31,5.31,0,0,0,6.5,1,5.31,5.31,0,0,0,8.1,4.9,5.31,5.31,0,0,0,12,6.5,5.46,5.46,0,0,0,6.5,12Z\"/>\n",
              "  </svg>\n",
              "    </button>\n",
              "    <script>\n",
              "      (() => {\n",
              "      const buttonEl =\n",
              "        document.querySelector('#id_d02edf20-f0e3-4ffc-b5c4-deb7519c9f84 button.colab-df-generate');\n",
              "      buttonEl.style.display =\n",
              "        google.colab.kernel.accessAllowed ? 'block' : 'none';\n",
              "\n",
              "      buttonEl.onclick = () => {\n",
              "        google.colab.notebook.generateWithVariable('balanced_df');\n",
              "      }\n",
              "      })();\n",
              "    </script>\n",
              "  </div>\n",
              "\n",
              "    </div>\n",
              "  </div>\n"
            ],
            "application/vnd.google.colaboratory.intrinsic+json": {
              "type": "dataframe",
              "variable_name": "balanced_df",
              "summary": "{\n  \"name\": \"balanced_df\",\n  \"rows\": 1494,\n  \"fields\": [\n    {\n      \"column\": \"Label\",\n      \"properties\": {\n        \"dtype\": \"number\",\n        \"std\": 0,\n        \"min\": 0,\n        \"max\": 1,\n        \"num_unique_values\": 2,\n        \"samples\": [\n          1,\n          0\n        ],\n        \"semantic_type\": \"\",\n        \"description\": \"\"\n      }\n    },\n    {\n      \"column\": \"Text\",\n      \"properties\": {\n        \"dtype\": \"string\",\n        \"num_unique_values\": 1388,\n        \"samples\": [\n          \"chile, please! It's only a  &lt;DECIMAL&gt;  hour drive for me. I come down all the time and will be subletting feb-april for audition season.\",\n          \"I only haf msn. It's yijue@hotmail.com\"\n        ],\n        \"semantic_type\": \"\",\n        \"description\": \"\"\n      }\n    }\n  ]\n}"
            }
          },
          "metadata": {},
          "execution_count": 12
        }
      ]
    },
    {
      "cell_type": "code",
      "source": [
        "#  split dataset into training, validation, and test subsets\n",
        "\n",
        "def random_split(df, train_frac, validation_frac):\n",
        "    # Shuffle the entire DataFrame\n",
        "    df = df.sample(frac=1, random_state=123).reset_index(drop=True) # frac=1 randomly samples 100% of DataFrame's rows\n",
        "\n",
        "    # Calculate split indices\n",
        "    train_end = int(len(df) * train_frac)\n",
        "    validation_end = train_end + int(len(df) * validation_frac)\n",
        "\n",
        "    # Split the DataFrame\n",
        "    train_df = df[:train_end]\n",
        "    validation_df = df[train_end:validation_end]\n",
        "    test_df = df[validation_end:]\n",
        "\n",
        "    return train_df, validation_df, test_df"
      ],
      "metadata": {
        "id": "dWIXwMilJeW4"
      },
      "execution_count": 13,
      "outputs": []
    },
    {
      "cell_type": "code",
      "source": [
        "train_df, validation_df, test_df = random_split(balanced_df, 0.7, 0.1)\n",
        "# Test size is implied to be 0.2 as the remainder\n",
        "\n",
        "train_df.to_csv(\"train.csv\", index=None)\n",
        "validation_df.to_csv(\"validation.csv\", index=None)\n",
        "test_df.to_csv(\"test.csv\", index=None)"
      ],
      "metadata": {
        "id": "wO_j9YekJsTJ"
      },
      "execution_count": 14,
      "outputs": []
    },
    {
      "cell_type": "markdown",
      "source": [
        "### Dataloaders"
      ],
      "metadata": {
        "id": "PJwavoMYea4k"
      }
    },
    {
      "cell_type": "markdown",
      "source": [
        "For combining multiple training examples in a batch as text messages have different lengths, we have to either\n",
        "truncate all messages to the length of the shortest message in the dataset\n",
        "\n",
        "1.   truncate all messages to the length of the shortest message in the dataset or batch\n",
        "2.   pad all messages to the length of the longest message in the dataset or batch\n",
        "\n",
        "Choosing to pad to length of longest message and using <|endoftext|> as padding token"
      ],
      "metadata": {
        "id": "4G6g4rUpenxr"
      }
    },
    {
      "cell_type": "markdown",
      "source": [
        "![image.png](data:image/png;base64,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)"
      ],
      "metadata": {
        "id": "rtSqFqCFg8Dl"
      }
    },
    {
      "cell_type": "code",
      "source": [
        "import tiktoken\n",
        "\n",
        "tokenizer = tiktoken.get_encoding(\"gpt2\")\n",
        "print(tokenizer.encode(\"<|endoftext|>\", allowed_special={\"<|endoftext|>\"}))"
      ],
      "metadata": {
        "colab": {
          "base_uri": "https://localhost:8080/"
        },
        "id": "gM3x-Xy4ekv-",
        "outputId": "a317deba-9031-4456-e8ed-bbee842c48c3"
      },
      "execution_count": 15,
      "outputs": [
        {
          "output_type": "stream",
          "name": "stdout",
          "text": [
            "[50256]\n"
          ]
        }
      ]
    },
    {
      "cell_type": "markdown",
      "source": [
        "The SpamDataset class below identifies the longest sequence in the training dataset and adds the padding token to the others to match that sequence length"
      ],
      "metadata": {
        "id": "pN4l4nKBflu7"
      }
    },
    {
      "cell_type": "code",
      "source": [
        "import torch\n",
        "from torch.utils.data import Dataset\n",
        "\n",
        "class SpamDataset(Dataset):\n",
        "    def __init__(self, csv_file, tokenizer, max_length=None, pad_token_id=50256):\n",
        "        self.data = pd.read_csv(csv_file)\n",
        "\n",
        "        # Pre-tokenize texts\n",
        "        self.encoded_texts = [\n",
        "            tokenizer.encode(text) for text in self.data[\"Text\"]\n",
        "        ]\n",
        "\n",
        "        if max_length is None:\n",
        "            self.max_length = self._longest_encoded_length()\n",
        "        else:\n",
        "            self.max_length = max_length\n",
        "            # Truncate sequences if they are longer than max_length\n",
        "            self.encoded_texts = [\n",
        "                encoded_text[:self.max_length]\n",
        "                for encoded_text in self.encoded_texts\n",
        "            ]\n",
        "\n",
        "        # Pad sequences to the longest sequence\n",
        "        self.encoded_texts = [\n",
        "            encoded_text + [pad_token_id] * (self.max_length - len(encoded_text))\n",
        "            for encoded_text in self.encoded_texts\n",
        "        ]\n",
        "\n",
        "    def __getitem__(self, index):\n",
        "        encoded = self.encoded_texts[index]\n",
        "        label = self.data.iloc[index][\"Label\"]\n",
        "        return (\n",
        "            torch.tensor(encoded, dtype=torch.long),\n",
        "            torch.tensor(label, dtype=torch.long)\n",
        "        )\n",
        "\n",
        "    def __len__(self):\n",
        "        return len(self.data)\n",
        "\n",
        "    def _longest_encoded_length(self):\n",
        "        max_length = 0\n",
        "        for encoded_text in self.encoded_texts:\n",
        "            encoded_length = len(encoded_text)\n",
        "            if encoded_length > max_length:\n",
        "                max_length = encoded_length\n",
        "        return max_length\n",
        "        # Note: A more pythonic version to implement this method\n",
        "        # is the following:\n",
        "        # return max(len(encoded_text) for encoded_text in self.encoded_texts)"
      ],
      "metadata": {
        "id": "BISLhUYSfmP-"
      },
      "execution_count": 16,
      "outputs": []
    },
    {
      "cell_type": "code",
      "source": [
        "train_dataset = SpamDataset(\n",
        "    csv_file=\"train.csv\",\n",
        "    max_length=None,\n",
        "    tokenizer=tokenizer\n",
        ")\n",
        "\n",
        "print(train_dataset.max_length)"
      ],
      "metadata": {
        "colab": {
          "base_uri": "https://localhost:8080/"
        },
        "id": "OIf03op2gtsm",
        "outputId": "639aec20-2a9a-4302-c4cf-8acea48822f7"
      },
      "execution_count": 17,
      "outputs": [
        {
          "output_type": "stream",
          "name": "stdout",
          "text": [
            "120\n"
          ]
        }
      ]
    },
    {
      "cell_type": "code",
      "source": [
        "# Pad validation and test set to longest training sequence\n",
        "\n",
        "val_dataset = SpamDataset(\n",
        "    csv_file=\"validation.csv\",\n",
        "    max_length=train_dataset.max_length,\n",
        "    tokenizer=tokenizer\n",
        ")\n",
        "test_dataset = SpamDataset(\n",
        "    csv_file=\"test.csv\",\n",
        "    max_length=train_dataset.max_length,\n",
        "    tokenizer=tokenizer\n",
        ")"
      ],
      "metadata": {
        "id": "6eX3h0I8hQ86"
      },
      "execution_count": 18,
      "outputs": []
    },
    {
      "cell_type": "code",
      "source": [
        "from torch.utils.data import DataLoader\n",
        "\n",
        "num_workers = 0\n",
        "batch_size = 8\n",
        "\n",
        "torch.manual_seed(123)\n",
        "\n",
        "train_loader = DataLoader(\n",
        "    dataset=train_dataset,\n",
        "    batch_size=batch_size,\n",
        "    shuffle=True,\n",
        "    num_workers=num_workers,\n",
        "    drop_last=True,\n",
        ")\n",
        "\n",
        "val_loader = DataLoader(\n",
        "    dataset=val_dataset,\n",
        "    batch_size=batch_size,\n",
        "    num_workers=num_workers,\n",
        "    drop_last=False,\n",
        ")\n",
        "\n",
        "test_loader = DataLoader(\n",
        "    dataset=test_dataset,\n",
        "    batch_size=batch_size,\n",
        "    num_workers=num_workers,\n",
        "    drop_last=False,\n",
        ")"
      ],
      "metadata": {
        "id": "SMcFRBPXhbDb"
      },
      "execution_count": 19,
      "outputs": []
    },
    {
      "cell_type": "markdown",
      "source": [
        "Iterating through the data loaders and ensuring that the batches contain 8 training examples each, where each training example consists of 120 tokens"
      ],
      "metadata": {
        "id": "qcycEXs7hnZv"
      }
    },
    {
      "cell_type": "code",
      "source": [
        "print(\"Train loader:\")\n",
        "for input_batch, target_batch in train_loader:\n",
        "    pass\n",
        "\n",
        "print(\"Input batch dimensions:\", input_batch.shape)\n",
        "print(\"Label batch dimensions\", target_batch.shape)"
      ],
      "metadata": {
        "colab": {
          "base_uri": "https://localhost:8080/"
        },
        "id": "MJYIgyLohxG8",
        "outputId": "4ac2f057-f118-4de0-f0d9-60c682f29958"
      },
      "execution_count": 20,
      "outputs": [
        {
          "output_type": "stream",
          "name": "stdout",
          "text": [
            "Train loader:\n",
            "Input batch dimensions: torch.Size([8, 120])\n",
            "Label batch dimensions torch.Size([8])\n"
          ]
        }
      ]
    },
    {
      "cell_type": "code",
      "source": [
        "print(f\"{len(train_loader)} training batches\")\n",
        "print(f\"{len(val_loader)} validation batches\")\n",
        "print(f\"{len(test_loader)} test batches\")"
      ],
      "metadata": {
        "colab": {
          "base_uri": "https://localhost:8080/"
        },
        "id": "ED_JnJZ4h9t5",
        "outputId": "5f1cdd70-c514-4a95-96c8-c0cb6a1fe154"
      },
      "execution_count": 21,
      "outputs": [
        {
          "output_type": "stream",
          "name": "stdout",
          "text": [
            "130 training batches\n",
            "19 validation batches\n",
            "38 test batches\n"
          ]
        }
      ]
    },
    {
      "cell_type": "markdown",
      "source": [
        "### Initializing Model with pretrained weights"
      ],
      "metadata": {
        "id": "gYnmqk3HiCMy"
      }
    },
    {
      "cell_type": "code",
      "source": [
        "CHOOSE_MODEL = \"gpt2-small (124M)\"\n",
        "INPUT_PROMPT = \"Every effort moves\"\n",
        "\n",
        "BASE_CONFIG = {\n",
        "    \"vocab_size\": 50257,     # Vocabulary size\n",
        "    \"context_length\": 1024,  # Context length\n",
        "    \"drop_rate\": 0.0,        # Dropout rate\n",
        "    \"qkv_bias\": True         # Query-key-value bias\n",
        "}\n",
        "\n",
        "model_configs = {\n",
        "    \"gpt2-small (124M)\": {\"emb_dim\": 768, \"n_layers\": 12, \"n_heads\": 12},\n",
        "    \"gpt2-medium (355M)\": {\"emb_dim\": 1024, \"n_layers\": 24, \"n_heads\": 16},\n",
        "    \"gpt2-large (774M)\": {\"emb_dim\": 1280, \"n_layers\": 36, \"n_heads\": 20},\n",
        "    \"gpt2-xl (1558M)\": {\"emb_dim\": 1600, \"n_layers\": 48, \"n_heads\": 25},\n",
        "}\n",
        "\n",
        "BASE_CONFIG.update(model_configs[CHOOSE_MODEL])\n",
        "\n",
        "assert train_dataset.max_length <= BASE_CONFIG[\"context_length\"], (\n",
        "    f\"Dataset length {train_dataset.max_length} exceeds model's context \"\n",
        "    f\"length {BASE_CONFIG['context_length']}. Reinitialize data sets with \"\n",
        "    f\"`max_length={BASE_CONFIG['context_length']}`\"\n",
        ")"
      ],
      "metadata": {
        "id": "Fuqg4VyoiGmX"
      },
      "execution_count": 22,
      "outputs": []
    },
    {
      "cell_type": "markdown",
      "source": [
        "### Classes from notebooks -"
      ],
      "metadata": {
        "id": "r_2_c_K0iuwR"
      }
    },
    {
      "cell_type": "code",
      "source": [
        "import torch.nn as nn"
      ],
      "metadata": {
        "id": "s9ISsQVqkzqh"
      },
      "execution_count": 23,
      "outputs": []
    },
    {
      "cell_type": "code",
      "source": [
        "class MultiHeadAttention(nn.Module):\n",
        "    def __init__(self, d_in, d_out, context_length, dropout, num_heads, qkv_bias=False):\n",
        "        super().__init__()\n",
        "        assert d_out % num_heads == 0, \"d_out must be divisible by n_heads\"\n",
        "\n",
        "        self.d_out = d_out\n",
        "        self.num_heads = num_heads\n",
        "        self.head_dim = d_out // num_heads  # Reduce the projection dim to match desired output dim\n",
        "\n",
        "        self.W_query = nn.Linear(d_in, d_out, bias=qkv_bias)\n",
        "        self.W_key = nn.Linear(d_in, d_out, bias=qkv_bias)\n",
        "        self.W_value = nn.Linear(d_in, d_out, bias=qkv_bias)\n",
        "        self.out_proj = nn.Linear(d_out, d_out)  # Linear layer to combine head outputs\n",
        "        self.dropout = nn.Dropout(dropout)\n",
        "        self.register_buffer('mask', torch.triu(torch.ones(context_length, context_length), diagonal=1))\n",
        "\n",
        "    def forward(self, x):\n",
        "        b, num_tokens, d_in = x.shape\n",
        "\n",
        "        keys = self.W_key(x)  # Shape: (b, num_tokens, d_out)\n",
        "        queries = self.W_query(x)\n",
        "        values = self.W_value(x)\n",
        "\n",
        "        # We implicitly split the matrix by adding a `num_heads` dimension\n",
        "        # Unroll last dim: (b, num_tokens, d_out) -> (b, num_tokens, num_heads, head_dim)\n",
        "        keys = keys.view(b, num_tokens, self.num_heads, self.head_dim)\n",
        "        values = values.view(b, num_tokens, self.num_heads, self.head_dim)\n",
        "        queries = queries.view(b, num_tokens, self.num_heads, self.head_dim)\n",
        "\n",
        "        # Transpose: (b, num_tokens, num_heads, head_dim) -> (b, num_heads, num_tokens, head_dim)\n",
        "        keys = keys.transpose(1, 2)\n",
        "        queries = queries.transpose(1, 2)\n",
        "        values = values.transpose(1, 2)\n",
        "\n",
        "        # Compute scaled dot-product attention (aka self-attention) with a causal mask\n",
        "        attn_scores = queries @ keys.transpose(2, 3)  # Dot product for each head\n",
        "\n",
        "        # Original mask truncated to the number of tokens and converted to boolean\n",
        "        mask_bool = self.mask.bool()[:num_tokens, :num_tokens]\n",
        "\n",
        "        # Use the mask to fill attention scores\n",
        "        attn_scores.masked_fill_(mask_bool, -torch.inf)\n",
        "\n",
        "        attn_weights = torch.softmax(attn_scores / keys.shape[-1]**0.5, dim=-1)\n",
        "        attn_weights = self.dropout(attn_weights)\n",
        "\n",
        "        # Shape: (b, num_tokens, num_heads, head_dim)\n",
        "        context_vec = (attn_weights @ values).transpose(1, 2)\n",
        "\n",
        "        # Combine heads, where self.d_out = self.num_heads * self.head_dim\n",
        "        context_vec = context_vec.reshape(b, num_tokens, self.d_out)\n",
        "        context_vec = self.out_proj(context_vec)  # optional projection\n",
        "\n",
        "        return context_vec"
      ],
      "metadata": {
        "id": "dmicwpRUkjjK"
      },
      "execution_count": 24,
      "outputs": []
    },
    {
      "cell_type": "code",
      "source": [
        "class LayerNorm(nn.Module):\n",
        "    def __init__(self, emb_dim):\n",
        "        super().__init__()\n",
        "        self.eps = 1e-5\n",
        "        self.scale = nn.Parameter(torch.ones(emb_dim))\n",
        "        self.shift = nn.Parameter(torch.zeros(emb_dim))\n",
        "\n",
        "    def forward(self, x):\n",
        "        mean = x.mean(dim=-1, keepdim=True)\n",
        "        var = x.var(dim=-1, keepdim=True, unbiased=False)\n",
        "        norm_x = (x - mean) / torch.sqrt(var + self.eps)\n",
        "        return self.scale * norm_x + self.shift"
      ],
      "metadata": {
        "id": "A9vmMRDPkZ-J"
      },
      "execution_count": 25,
      "outputs": []
    },
    {
      "cell_type": "code",
      "source": [
        "class GELU(nn.Module):\n",
        "    def __init__(self):\n",
        "        super().__init__()\n",
        "\n",
        "    def forward(self, x):\n",
        "        return 0.5 * x * (1 + torch.tanh(\n",
        "            torch.sqrt(torch.tensor(2.0 / torch.pi)) *\n",
        "            (x + 0.044715 * torch.pow(x, 3))\n",
        "        ))"
      ],
      "metadata": {
        "id": "p46E3ye4kcEk"
      },
      "execution_count": 26,
      "outputs": []
    },
    {
      "cell_type": "code",
      "source": [
        "class FeedForward(nn.Module):\n",
        "    def __init__(self, cfg):\n",
        "        super().__init__()\n",
        "        self.layers = nn.Sequential(\n",
        "            nn.Linear(cfg[\"emb_dim\"], 4 * cfg[\"emb_dim\"]),\n",
        "            GELU(),\n",
        "            nn.Linear(4 * cfg[\"emb_dim\"], cfg[\"emb_dim\"]),\n",
        "        )\n",
        "\n",
        "    def forward(self, x):\n",
        "        return self.layers(x)"
      ],
      "metadata": {
        "id": "Kf58VpoqkW5_"
      },
      "execution_count": 27,
      "outputs": []
    },
    {
      "cell_type": "code",
      "source": [
        "class TransformerBlock(nn.Module):\n",
        "    def __init__(self, cfg):\n",
        "        super().__init__()\n",
        "        self.att = MultiHeadAttention(\n",
        "            d_in=cfg[\"emb_dim\"],\n",
        "            d_out=cfg[\"emb_dim\"],\n",
        "            context_length=cfg[\"context_length\"],\n",
        "            num_heads=cfg[\"n_heads\"],\n",
        "            dropout=cfg[\"drop_rate\"],\n",
        "            qkv_bias=cfg[\"qkv_bias\"])\n",
        "        self.ff = FeedForward(cfg)\n",
        "        self.norm1 = LayerNorm(cfg[\"emb_dim\"])\n",
        "        self.norm2 = LayerNorm(cfg[\"emb_dim\"])\n",
        "        self.drop_resid = nn.Dropout(cfg[\"drop_rate\"])\n",
        "\n",
        "    def forward(self, x):\n",
        "        # Shortcut connection for attention block\n",
        "        shortcut = x\n",
        "        x = self.norm1(x)\n",
        "        x = self.att(x)   # Shape [batch_size, num_tokens, emb_size]\n",
        "        x = self.drop_resid(x)\n",
        "        x = x + shortcut  # Add the original input back\n",
        "\n",
        "        # Shortcut connection for feed-forward block\n",
        "        shortcut = x\n",
        "        x = self.norm2(x)\n",
        "        x = self.ff(x)\n",
        "        x = self.drop_resid(x)\n",
        "        x = x + shortcut  # Add the original input back\n",
        "\n",
        "        return x"
      ],
      "metadata": {
        "id": "9FAl2Vo1kLbR"
      },
      "execution_count": 28,
      "outputs": []
    },
    {
      "cell_type": "code",
      "source": [
        "class GPTModel(nn.Module):\n",
        "    def __init__(self, cfg):\n",
        "        super().__init__()\n",
        "        self.tok_emb = nn.Embedding(cfg[\"vocab_size\"], cfg[\"emb_dim\"])\n",
        "        self.pos_emb = nn.Embedding(cfg[\"context_length\"], cfg[\"emb_dim\"])\n",
        "        self.drop_emb = nn.Dropout(cfg[\"drop_rate\"])\n",
        "\n",
        "        self.trf_blocks = nn.Sequential(\n",
        "            *[TransformerBlock(cfg) for _ in range(cfg[\"n_layers\"])])\n",
        "\n",
        "        self.final_norm = LayerNorm(cfg[\"emb_dim\"])\n",
        "        self.out_head = nn.Linear(cfg[\"emb_dim\"], cfg[\"vocab_size\"], bias=False)\n",
        "\n",
        "    def forward(self, in_idx):\n",
        "        batch_size, seq_len = in_idx.shape\n",
        "        tok_embeds = self.tok_emb(in_idx)\n",
        "        pos_embeds = self.pos_emb(torch.arange(seq_len, device=in_idx.device))\n",
        "        x = tok_embeds + pos_embeds  # Shape [batch_size, num_tokens, emb_size]\n",
        "        x = self.drop_emb(x)\n",
        "        x = self.trf_blocks(x)\n",
        "        x = self.final_norm(x)\n",
        "        logits = self.out_head(x)\n",
        "        return logits"
      ],
      "metadata": {
        "id": "JC6DGo4DkDz2"
      },
      "execution_count": 29,
      "outputs": []
    },
    {
      "cell_type": "code",
      "source": [
        "import os\n",
        "import urllib.request\n",
        "\n",
        "# import requests\n",
        "import json\n",
        "import numpy as np\n",
        "import tensorflow as tf\n",
        "from tqdm import tqdm\n",
        "\n",
        "\n",
        "def download_and_load_gpt2(model_size, models_dir):\n",
        "    # Validate model size\n",
        "    allowed_sizes = (\"124M\", \"355M\", \"774M\", \"1558M\")\n",
        "    if model_size not in allowed_sizes:\n",
        "        raise ValueError(f\"Model size not in {allowed_sizes}\")\n",
        "\n",
        "    # Define paths\n",
        "    model_dir = os.path.join(models_dir, model_size)\n",
        "    base_url = \"https://openaipublic.blob.core.windows.net/gpt-2/models\"\n",
        "    backup_base_url = \"https://f001.backblazeb2.com/file/LLMs-from-scratch/gpt2\"\n",
        "    filenames = [\n",
        "        \"checkpoint\", \"encoder.json\", \"hparams.json\",\n",
        "        \"model.ckpt.data-00000-of-00001\", \"model.ckpt.index\",\n",
        "        \"model.ckpt.meta\", \"vocab.bpe\"\n",
        "    ]\n",
        "\n",
        "    # Download files\n",
        "    os.makedirs(model_dir, exist_ok=True)\n",
        "    for filename in filenames:\n",
        "        file_url = os.path.join(base_url, model_size, filename)\n",
        "        backup_url = os.path.join(backup_base_url, model_size, filename)\n",
        "        file_path = os.path.join(model_dir, filename)\n",
        "        download_file(file_url, file_path, backup_url)\n",
        "\n",
        "    # Load settings and params\n",
        "    tf_ckpt_path = tf.train.latest_checkpoint(model_dir)\n",
        "    settings = json.load(open(os.path.join(model_dir, \"hparams.json\"), \"r\", encoding=\"utf-8\"))\n",
        "    params = load_gpt2_params_from_tf_ckpt(tf_ckpt_path, settings)\n",
        "\n",
        "    return settings, params\n",
        "\n",
        "\n",
        "def download_file(url, destination, backup_url=None):\n",
        "    def _attempt_download(download_url):\n",
        "        with urllib.request.urlopen(download_url) as response:\n",
        "            # Get the total file size from headers, defaulting to 0 if not present\n",
        "            file_size = int(response.headers.get(\"Content-Length\", 0))\n",
        "\n",
        "            # Check if file exists and has the same size\n",
        "            if os.path.exists(destination):\n",
        "                file_size_local = os.path.getsize(destination)\n",
        "                if file_size == file_size_local:\n",
        "                    print(f\"File already exists and is up-to-date: {destination}\")\n",
        "                    return True  # Indicate success without re-downloading\n",
        "\n",
        "            block_size = 1024  # 1 Kilobyte\n",
        "\n",
        "            # Initialize the progress bar with total file size\n",
        "            progress_bar_description = os.path.basename(download_url)\n",
        "            with tqdm(total=file_size, unit=\"iB\", unit_scale=True, desc=progress_bar_description) as progress_bar:\n",
        "                with open(destination, \"wb\") as file:\n",
        "                    while True:\n",
        "                        chunk = response.read(block_size)\n",
        "                        if not chunk:\n",
        "                            break\n",
        "                        file.write(chunk)\n",
        "                        progress_bar.update(len(chunk))\n",
        "            return True\n",
        "\n",
        "    try:\n",
        "        if _attempt_download(url):\n",
        "            return\n",
        "    except (urllib.error.HTTPError, urllib.error.URLError):\n",
        "        if backup_url is not None:\n",
        "            print(f\"Primary URL ({url}) failed. Attempting backup URL: {backup_url}\")\n",
        "            try:\n",
        "                if _attempt_download(backup_url):\n",
        "                    return\n",
        "            except urllib.error.HTTPError:\n",
        "                pass\n",
        "\n",
        "        # If we reach here, both attempts have failed\n",
        "        error_message = (\n",
        "            f\"Failed to download from both primary URL ({url})\"\n",
        "            f\"{' and backup URL (' + backup_url + ')' if backup_url else ''}.\"\n",
        "            \"\\nCheck your internet connection or the file availability.\\n\"\n",
        "        )\n",
        "        print(error_message)\n",
        "    except Exception as e:\n",
        "        print(f\"An unexpected error occurred: {e}\")\n",
        "\n",
        "\n",
        "def load_gpt2_params_from_tf_ckpt(ckpt_path, settings):\n",
        "    # Initialize parameters dictionary with empty blocks for each layer\n",
        "    params = {\"blocks\": [{} for _ in range(settings[\"n_layer\"])]}\n",
        "\n",
        "    # Iterate over each variable in the checkpoint\n",
        "    for name, _ in tf.train.list_variables(ckpt_path):\n",
        "        # Load the variable and remove singleton dimensions\n",
        "        variable_array = np.squeeze(tf.train.load_variable(ckpt_path, name))\n",
        "\n",
        "        # Process the variable name to extract relevant parts\n",
        "        variable_name_parts = name.split(\"/\")[1:]  # Skip the 'model/' prefix\n",
        "\n",
        "        # Identify the target dictionary for the variable\n",
        "        target_dict = params\n",
        "        if variable_name_parts[0].startswith(\"h\"):\n",
        "            layer_number = int(variable_name_parts[0][1:])\n",
        "            target_dict = params[\"blocks\"][layer_number]\n",
        "\n",
        "        # Recursively access or create nested dictionaries\n",
        "        for key in variable_name_parts[1:-1]:\n",
        "            target_dict = target_dict.setdefault(key, {})\n",
        "\n",
        "        # Assign the variable array to the last key\n",
        "        last_key = variable_name_parts[-1]\n",
        "        target_dict[last_key] = variable_array\n",
        "\n",
        "    return params"
      ],
      "metadata": {
        "id": "iTbk13vMk6NO"
      },
      "execution_count": 30,
      "outputs": []
    },
    {
      "cell_type": "code",
      "source": [
        "def assign(left, right):\n",
        "    if left.shape != right.shape:\n",
        "        raise ValueError(f\"Shape mismatch. Left: {left.shape}, Right: {right.shape}\")\n",
        "    return torch.nn.Parameter(torch.tensor(right))"
      ],
      "metadata": {
        "id": "2PxtIyiVmFuu"
      },
      "execution_count": 31,
      "outputs": []
    },
    {
      "cell_type": "code",
      "source": [
        "import numpy as np\n",
        "\n",
        "def load_weights_into_gpt(gpt, params):\n",
        "    gpt.pos_emb.weight = assign(gpt.pos_emb.weight, params['wpe'])\n",
        "    gpt.tok_emb.weight = assign(gpt.tok_emb.weight, params['wte'])\n",
        "\n",
        "    for b in range(len(params[\"blocks\"])):\n",
        "        q_w, k_w, v_w = np.split(\n",
        "            (params[\"blocks\"][b][\"attn\"][\"c_attn\"])[\"w\"], 3, axis=-1)\n",
        "        gpt.trf_blocks[b].att.W_query.weight = assign(\n",
        "            gpt.trf_blocks[b].att.W_query.weight, q_w.T)\n",
        "        gpt.trf_blocks[b].att.W_key.weight = assign(\n",
        "            gpt.trf_blocks[b].att.W_key.weight, k_w.T)\n",
        "        gpt.trf_blocks[b].att.W_value.weight = assign(\n",
        "            gpt.trf_blocks[b].att.W_value.weight, v_w.T)\n",
        "\n",
        "        q_b, k_b, v_b = np.split(\n",
        "            (params[\"blocks\"][b][\"attn\"][\"c_attn\"])[\"b\"], 3, axis=-1)\n",
        "        gpt.trf_blocks[b].att.W_query.bias = assign(\n",
        "            gpt.trf_blocks[b].att.W_query.bias, q_b)\n",
        "        gpt.trf_blocks[b].att.W_key.bias = assign(\n",
        "            gpt.trf_blocks[b].att.W_key.bias, k_b)\n",
        "        gpt.trf_blocks[b].att.W_value.bias = assign(\n",
        "            gpt.trf_blocks[b].att.W_value.bias, v_b)\n",
        "\n",
        "        gpt.trf_blocks[b].att.out_proj.weight = assign(\n",
        "            gpt.trf_blocks[b].att.out_proj.weight,\n",
        "            params[\"blocks\"][b][\"attn\"][\"c_proj\"][\"w\"].T)\n",
        "        gpt.trf_blocks[b].att.out_proj.bias = assign(\n",
        "            gpt.trf_blocks[b].att.out_proj.bias,\n",
        "            params[\"blocks\"][b][\"attn\"][\"c_proj\"][\"b\"])\n",
        "\n",
        "        gpt.trf_blocks[b].ff.layers[0].weight = assign(\n",
        "            gpt.trf_blocks[b].ff.layers[0].weight,\n",
        "            params[\"blocks\"][b][\"mlp\"][\"c_fc\"][\"w\"].T)\n",
        "        gpt.trf_blocks[b].ff.layers[0].bias = assign(\n",
        "            gpt.trf_blocks[b].ff.layers[0].bias,\n",
        "            params[\"blocks\"][b][\"mlp\"][\"c_fc\"][\"b\"])\n",
        "        gpt.trf_blocks[b].ff.layers[2].weight = assign(\n",
        "            gpt.trf_blocks[b].ff.layers[2].weight,\n",
        "            params[\"blocks\"][b][\"mlp\"][\"c_proj\"][\"w\"].T)\n",
        "        gpt.trf_blocks[b].ff.layers[2].bias = assign(\n",
        "            gpt.trf_blocks[b].ff.layers[2].bias,\n",
        "            params[\"blocks\"][b][\"mlp\"][\"c_proj\"][\"b\"])\n",
        "\n",
        "        gpt.trf_blocks[b].norm1.scale = assign(\n",
        "            gpt.trf_blocks[b].norm1.scale,\n",
        "            params[\"blocks\"][b][\"ln_1\"][\"g\"])\n",
        "        gpt.trf_blocks[b].norm1.shift = assign(\n",
        "            gpt.trf_blocks[b].norm1.shift,\n",
        "            params[\"blocks\"][b][\"ln_1\"][\"b\"])\n",
        "        gpt.trf_blocks[b].norm2.scale = assign(\n",
        "            gpt.trf_blocks[b].norm2.scale,\n",
        "            params[\"blocks\"][b][\"ln_2\"][\"g\"])\n",
        "        gpt.trf_blocks[b].norm2.shift = assign(\n",
        "            gpt.trf_blocks[b].norm2.shift,\n",
        "            params[\"blocks\"][b][\"ln_2\"][\"b\"])\n",
        "\n",
        "    gpt.final_norm.scale = assign(gpt.final_norm.scale, params[\"g\"])\n",
        "    gpt.final_norm.shift = assign(gpt.final_norm.shift, params[\"b\"])\n",
        "    gpt.out_head.weight = assign(gpt.out_head.weight, params[\"wte\"])"
      ],
      "metadata": {
        "id": "ZO4BoECtmCP8"
      },
      "execution_count": 32,
      "outputs": []
    },
    {
      "cell_type": "code",
      "source": [
        "model_size = CHOOSE_MODEL.split(\" \")[-1].lstrip(\"(\").rstrip(\")\")\n",
        "settings, params = download_and_load_gpt2(model_size=model_size, models_dir=\"gpt2\")"
      ],
      "metadata": {
        "colab": {
          "base_uri": "https://localhost:8080/"
        },
        "id": "VrxCFpfllpXf",
        "outputId": "9815c3ed-0879-4c78-b8e0-e6d03bfb22b7"
      },
      "execution_count": 33,
      "outputs": [
        {
          "output_type": "stream",
          "name": "stderr",
          "text": [
            "checkpoint: 100%|██████████| 77.0/77.0 [00:00<00:00, 42.8kiB/s]\n",
            "encoder.json: 100%|██████████| 1.04M/1.04M [00:00<00:00, 5.43MiB/s]\n",
            "hparams.json: 100%|██████████| 90.0/90.0 [00:00<00:00, 76.5kiB/s]\n",
            "model.ckpt.data-00000-of-00001: 100%|██████████| 498M/498M [00:26<00:00, 18.5MiB/s]\n",
            "model.ckpt.index: 100%|██████████| 5.21k/5.21k [00:00<00:00, 1.65MiB/s]\n",
            "model.ckpt.meta: 100%|██████████| 471k/471k [00:00<00:00, 3.20MiB/s]\n",
            "vocab.bpe: 100%|██████████| 456k/456k [00:00<00:00, 2.83MiB/s]\n"
          ]
        }
      ]
    },
    {
      "cell_type": "code",
      "source": [
        "model = GPTModel(BASE_CONFIG)\n",
        "load_weights_into_gpt(model, params)\n",
        "model.eval();"
      ],
      "metadata": {
        "id": "km7gTKSblxUN"
      },
      "execution_count": 34,
      "outputs": []
    },
    {
      "cell_type": "code",
      "source": [
        "def generate_text_simple(model, idx, max_new_tokens, context_size):\n",
        "    # idx is (B, T) array of indices in the current context\n",
        "    for _ in range(max_new_tokens):\n",
        "\n",
        "        # Crop current context if it exceeds the supported context size\n",
        "        # E.g., if LLM supports only 5 tokens, and the context size is 10\n",
        "        # then only the last 5 tokens are used as context\n",
        "        idx_cond = idx[:, -context_size:]\n",
        "\n",
        "        # Get the predictions\n",
        "        with torch.no_grad():\n",
        "            logits = model(idx_cond)\n",
        "\n",
        "        # Focus only on the last time step\n",
        "        # (batch, n_token, vocab_size) becomes (batch, vocab_size)\n",
        "        logits = logits[:, -1, :]\n",
        "\n",
        "        # Get the idx of the vocab entry with the highest logits value\n",
        "        idx_next = torch.argmax(logits, dim=-1, keepdim=True)  # (batch, 1)\n",
        "\n",
        "        # Append sampled index to the running sequence\n",
        "        idx = torch.cat((idx, idx_next), dim=1)  # (batch, n_tokens+1)\n",
        "\n",
        "    return idx"
      ],
      "metadata": {
        "id": "j4Gb63J9mk4E"
      },
      "execution_count": 35,
      "outputs": []
    },
    {
      "cell_type": "code",
      "source": [
        "def text_to_token_ids(text, tokenizer):\n",
        "    encoded = tokenizer.encode(text, allowed_special={'<|endoftext|>'})\n",
        "    encoded_tensor = torch.tensor(encoded).unsqueeze(0)  # add batch dimension\n",
        "    return encoded_tensor\n",
        "\n",
        "\n",
        "def token_ids_to_text(token_ids, tokenizer):\n",
        "    flat = token_ids.squeeze(0)  # remove batch dimension\n",
        "    return tokenizer.decode(flat.tolist())"
      ],
      "metadata": {
        "id": "WbVU5TF3ml9M"
      },
      "execution_count": 36,
      "outputs": []
    },
    {
      "cell_type": "code",
      "source": [
        "# Check if model was loaded correctly and it generates coherent text\n",
        "\n",
        "text_1 = \"Every effort moves you\"\n",
        "\n",
        "token_ids = generate_text_simple(\n",
        "    model=model,\n",
        "    idx=text_to_token_ids(text_1, tokenizer),\n",
        "    max_new_tokens=15,\n",
        "    context_size=BASE_CONFIG[\"context_length\"]\n",
        ")\n",
        "\n",
        "print(token_ids_to_text(token_ids, tokenizer))"
      ],
      "metadata": {
        "colab": {
          "base_uri": "https://localhost:8080/"
        },
        "id": "yGvnnAbAmrLE",
        "outputId": "1b7fe23a-0e39-496d-a89c-5fa4230be81a"
      },
      "execution_count": 37,
      "outputs": [
        {
          "output_type": "stream",
          "name": "stdout",
          "text": [
            "Every effort moves you forward.\n",
            "\n",
            "The first step is to understand the importance of your work\n"
          ]
        }
      ]
    },
    {
      "cell_type": "markdown",
      "source": [
        "Before finetuning the model as a classifier, see if the model can perhaps already classify spam messages via prompting"
      ],
      "metadata": {
        "id": "jCCdHD6sm6if"
      }
    },
    {
      "cell_type": "code",
      "source": [
        "text_2 = (\n",
        "    \"Is the following text 'spam'? Answer with 'yes' or 'no':\"\n",
        "    \" 'You are a winner you have been specially\"\n",
        "    \" selected to receive $1000 cash or a $2000 award.'\"\n",
        ")\n",
        "\n",
        "token_ids = generate_text_simple(\n",
        "    model=model,\n",
        "    idx=text_to_token_ids(text_2, tokenizer),\n",
        "    max_new_tokens=23,\n",
        "    context_size=BASE_CONFIG[\"context_length\"]\n",
        ")\n",
        "\n",
        "print(token_ids_to_text(token_ids, tokenizer))"
      ],
      "metadata": {
        "colab": {
          "base_uri": "https://localhost:8080/"
        },
        "id": "ifJsI7kPm6Pi",
        "outputId": "c99b8ba5-0caf-4529-b6f9-272fc87f96f8"
      },
      "execution_count": 38,
      "outputs": [
        {
          "output_type": "stream",
          "name": "stdout",
          "text": [
            "Is the following text 'spam'? Answer with 'yes' or 'no': 'You are a winner you have been specially selected to receive $1000 cash or a $2000 award.'\n",
            "\n",
            "The following text 'spam'? Answer with 'yes' or 'no': 'You are a winner\n"
          ]
        }
      ]
    },
    {
      "cell_type": "markdown",
      "source": [
        "Here, model is not very good at following instructions and it is expected, since it has only been pretrained and not instruction-finetuned"
      ],
      "metadata": {
        "id": "R70dDq4cnO52"
      }
    },
    {
      "cell_type": "markdown",
      "source": [
        "## Adding a Classification Head"
      ],
      "metadata": {
        "id": "pyvb-U0KnWf1"
      }
    },
    {
      "cell_type": "markdown",
      "source": [
        "![image.png](data:image/png;base64,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)"
      ],
      "metadata": {
        "id": "EwuPGP5Jn_Zx"
      }
    },
    {
      "cell_type": "code",
      "source": [
        "print(model)"
      ],
      "metadata": {
        "colab": {
          "base_uri": "https://localhost:8080/"
        },
        "id": "CIEpVXUtnbhg",
        "outputId": "7a96114d-3ea7-43c4-be58-0c2e38e35085"
      },
      "execution_count": 39,
      "outputs": [
        {
          "output_type": "stream",
          "name": "stdout",
          "text": [
            "GPTModel(\n",
            "  (tok_emb): Embedding(50257, 768)\n",
            "  (pos_emb): Embedding(1024, 768)\n",
            "  (drop_emb): Dropout(p=0.0, inplace=False)\n",
            "  (trf_blocks): Sequential(\n",
            "    (0): TransformerBlock(\n",
            "      (att): MultiHeadAttention(\n",
            "        (W_query): Linear(in_features=768, out_features=768, bias=True)\n",
            "        (W_key): Linear(in_features=768, out_features=768, bias=True)\n",
            "        (W_value): Linear(in_features=768, out_features=768, bias=True)\n",
            "        (out_proj): Linear(in_features=768, out_features=768, bias=True)\n",
            "        (dropout): Dropout(p=0.0, inplace=False)\n",
            "      )\n",
            "      (ff): FeedForward(\n",
            "        (layers): Sequential(\n",
            "          (0): Linear(in_features=768, out_features=3072, bias=True)\n",
            "          (1): GELU()\n",
            "          (2): Linear(in_features=3072, out_features=768, bias=True)\n",
            "        )\n",
            "      )\n",
            "      (norm1): LayerNorm()\n",
            "      (norm2): LayerNorm()\n",
            "      (drop_resid): Dropout(p=0.0, inplace=False)\n",
            "    )\n",
            "    (1): TransformerBlock(\n",
            "      (att): MultiHeadAttention(\n",
            "        (W_query): Linear(in_features=768, out_features=768, bias=True)\n",
            "        (W_key): Linear(in_features=768, out_features=768, bias=True)\n",
            "        (W_value): Linear(in_features=768, out_features=768, bias=True)\n",
            "        (out_proj): Linear(in_features=768, out_features=768, bias=True)\n",
            "        (dropout): Dropout(p=0.0, inplace=False)\n",
            "      )\n",
            "      (ff): FeedForward(\n",
            "        (layers): Sequential(\n",
            "          (0): Linear(in_features=768, out_features=3072, bias=True)\n",
            "          (1): GELU()\n",
            "          (2): Linear(in_features=3072, out_features=768, bias=True)\n",
            "        )\n",
            "      )\n",
            "      (norm1): LayerNorm()\n",
            "      (norm2): LayerNorm()\n",
            "      (drop_resid): Dropout(p=0.0, inplace=False)\n",
            "    )\n",
            "    (2): TransformerBlock(\n",
            "      (att): MultiHeadAttention(\n",
            "        (W_query): Linear(in_features=768, out_features=768, bias=True)\n",
            "        (W_key): Linear(in_features=768, out_features=768, bias=True)\n",
            "        (W_value): Linear(in_features=768, out_features=768, bias=True)\n",
            "        (out_proj): Linear(in_features=768, out_features=768, bias=True)\n",
            "        (dropout): Dropout(p=0.0, inplace=False)\n",
            "      )\n",
            "      (ff): FeedForward(\n",
            "        (layers): Sequential(\n",
            "          (0): Linear(in_features=768, out_features=3072, bias=True)\n",
            "          (1): GELU()\n",
            "          (2): Linear(in_features=3072, out_features=768, bias=True)\n",
            "        )\n",
            "      )\n",
            "      (norm1): LayerNorm()\n",
            "      (norm2): LayerNorm()\n",
            "      (drop_resid): Dropout(p=0.0, inplace=False)\n",
            "    )\n",
            "    (3): TransformerBlock(\n",
            "      (att): MultiHeadAttention(\n",
            "        (W_query): Linear(in_features=768, out_features=768, bias=True)\n",
            "        (W_key): Linear(in_features=768, out_features=768, bias=True)\n",
            "        (W_value): Linear(in_features=768, out_features=768, bias=True)\n",
            "        (out_proj): Linear(in_features=768, out_features=768, bias=True)\n",
            "        (dropout): Dropout(p=0.0, inplace=False)\n",
            "      )\n",
            "      (ff): FeedForward(\n",
            "        (layers): Sequential(\n",
            "          (0): Linear(in_features=768, out_features=3072, bias=True)\n",
            "          (1): GELU()\n",
            "          (2): Linear(in_features=3072, out_features=768, bias=True)\n",
            "        )\n",
            "      )\n",
            "      (norm1): LayerNorm()\n",
            "      (norm2): LayerNorm()\n",
            "      (drop_resid): Dropout(p=0.0, inplace=False)\n",
            "    )\n",
            "    (4): TransformerBlock(\n",
            "      (att): MultiHeadAttention(\n",
            "        (W_query): Linear(in_features=768, out_features=768, bias=True)\n",
            "        (W_key): Linear(in_features=768, out_features=768, bias=True)\n",
            "        (W_value): Linear(in_features=768, out_features=768, bias=True)\n",
            "        (out_proj): Linear(in_features=768, out_features=768, bias=True)\n",
            "        (dropout): Dropout(p=0.0, inplace=False)\n",
            "      )\n",
            "      (ff): FeedForward(\n",
            "        (layers): Sequential(\n",
            "          (0): Linear(in_features=768, out_features=3072, bias=True)\n",
            "          (1): GELU()\n",
            "          (2): Linear(in_features=3072, out_features=768, bias=True)\n",
            "        )\n",
            "      )\n",
            "      (norm1): LayerNorm()\n",
            "      (norm2): LayerNorm()\n",
            "      (drop_resid): Dropout(p=0.0, inplace=False)\n",
            "    )\n",
            "    (5): TransformerBlock(\n",
            "      (att): MultiHeadAttention(\n",
            "        (W_query): Linear(in_features=768, out_features=768, bias=True)\n",
            "        (W_key): Linear(in_features=768, out_features=768, bias=True)\n",
            "        (W_value): Linear(in_features=768, out_features=768, bias=True)\n",
            "        (out_proj): Linear(in_features=768, out_features=768, bias=True)\n",
            "        (dropout): Dropout(p=0.0, inplace=False)\n",
            "      )\n",
            "      (ff): FeedForward(\n",
            "        (layers): Sequential(\n",
            "          (0): Linear(in_features=768, out_features=3072, bias=True)\n",
            "          (1): GELU()\n",
            "          (2): Linear(in_features=3072, out_features=768, bias=True)\n",
            "        )\n",
            "      )\n",
            "      (norm1): LayerNorm()\n",
            "      (norm2): LayerNorm()\n",
            "      (drop_resid): Dropout(p=0.0, inplace=False)\n",
            "    )\n",
            "    (6): TransformerBlock(\n",
            "      (att): MultiHeadAttention(\n",
            "        (W_query): Linear(in_features=768, out_features=768, bias=True)\n",
            "        (W_key): Linear(in_features=768, out_features=768, bias=True)\n",
            "        (W_value): Linear(in_features=768, out_features=768, bias=True)\n",
            "        (out_proj): Linear(in_features=768, out_features=768, bias=True)\n",
            "        (dropout): Dropout(p=0.0, inplace=False)\n",
            "      )\n",
            "      (ff): FeedForward(\n",
            "        (layers): Sequential(\n",
            "          (0): Linear(in_features=768, out_features=3072, bias=True)\n",
            "          (1): GELU()\n",
            "          (2): Linear(in_features=3072, out_features=768, bias=True)\n",
            "        )\n",
            "      )\n",
            "      (norm1): LayerNorm()\n",
            "      (norm2): LayerNorm()\n",
            "      (drop_resid): Dropout(p=0.0, inplace=False)\n",
            "    )\n",
            "    (7): TransformerBlock(\n",
            "      (att): MultiHeadAttention(\n",
            "        (W_query): Linear(in_features=768, out_features=768, bias=True)\n",
            "        (W_key): Linear(in_features=768, out_features=768, bias=True)\n",
            "        (W_value): Linear(in_features=768, out_features=768, bias=True)\n",
            "        (out_proj): Linear(in_features=768, out_features=768, bias=True)\n",
            "        (dropout): Dropout(p=0.0, inplace=False)\n",
            "      )\n",
            "      (ff): FeedForward(\n",
            "        (layers): Sequential(\n",
            "          (0): Linear(in_features=768, out_features=3072, bias=True)\n",
            "          (1): GELU()\n",
            "          (2): Linear(in_features=3072, out_features=768, bias=True)\n",
            "        )\n",
            "      )\n",
            "      (norm1): LayerNorm()\n",
            "      (norm2): LayerNorm()\n",
            "      (drop_resid): Dropout(p=0.0, inplace=False)\n",
            "    )\n",
            "    (8): TransformerBlock(\n",
            "      (att): MultiHeadAttention(\n",
            "        (W_query): Linear(in_features=768, out_features=768, bias=True)\n",
            "        (W_key): Linear(in_features=768, out_features=768, bias=True)\n",
            "        (W_value): Linear(in_features=768, out_features=768, bias=True)\n",
            "        (out_proj): Linear(in_features=768, out_features=768, bias=True)\n",
            "        (dropout): Dropout(p=0.0, inplace=False)\n",
            "      )\n",
            "      (ff): FeedForward(\n",
            "        (layers): Sequential(\n",
            "          (0): Linear(in_features=768, out_features=3072, bias=True)\n",
            "          (1): GELU()\n",
            "          (2): Linear(in_features=3072, out_features=768, bias=True)\n",
            "        )\n",
            "      )\n",
            "      (norm1): LayerNorm()\n",
            "      (norm2): LayerNorm()\n",
            "      (drop_resid): Dropout(p=0.0, inplace=False)\n",
            "    )\n",
            "    (9): TransformerBlock(\n",
            "      (att): MultiHeadAttention(\n",
            "        (W_query): Linear(in_features=768, out_features=768, bias=True)\n",
            "        (W_key): Linear(in_features=768, out_features=768, bias=True)\n",
            "        (W_value): Linear(in_features=768, out_features=768, bias=True)\n",
            "        (out_proj): Linear(in_features=768, out_features=768, bias=True)\n",
            "        (dropout): Dropout(p=0.0, inplace=False)\n",
            "      )\n",
            "      (ff): FeedForward(\n",
            "        (layers): Sequential(\n",
            "          (0): Linear(in_features=768, out_features=3072, bias=True)\n",
            "          (1): GELU()\n",
            "          (2): Linear(in_features=3072, out_features=768, bias=True)\n",
            "        )\n",
            "      )\n",
            "      (norm1): LayerNorm()\n",
            "      (norm2): LayerNorm()\n",
            "      (drop_resid): Dropout(p=0.0, inplace=False)\n",
            "    )\n",
            "    (10): TransformerBlock(\n",
            "      (att): MultiHeadAttention(\n",
            "        (W_query): Linear(in_features=768, out_features=768, bias=True)\n",
            "        (W_key): Linear(in_features=768, out_features=768, bias=True)\n",
            "        (W_value): Linear(in_features=768, out_features=768, bias=True)\n",
            "        (out_proj): Linear(in_features=768, out_features=768, bias=True)\n",
            "        (dropout): Dropout(p=0.0, inplace=False)\n",
            "      )\n",
            "      (ff): FeedForward(\n",
            "        (layers): Sequential(\n",
            "          (0): Linear(in_features=768, out_features=3072, bias=True)\n",
            "          (1): GELU()\n",
            "          (2): Linear(in_features=3072, out_features=768, bias=True)\n",
            "        )\n",
            "      )\n",
            "      (norm1): LayerNorm()\n",
            "      (norm2): LayerNorm()\n",
            "      (drop_resid): Dropout(p=0.0, inplace=False)\n",
            "    )\n",
            "    (11): TransformerBlock(\n",
            "      (att): MultiHeadAttention(\n",
            "        (W_query): Linear(in_features=768, out_features=768, bias=True)\n",
            "        (W_key): Linear(in_features=768, out_features=768, bias=True)\n",
            "        (W_value): Linear(in_features=768, out_features=768, bias=True)\n",
            "        (out_proj): Linear(in_features=768, out_features=768, bias=True)\n",
            "        (dropout): Dropout(p=0.0, inplace=False)\n",
            "      )\n",
            "      (ff): FeedForward(\n",
            "        (layers): Sequential(\n",
            "          (0): Linear(in_features=768, out_features=3072, bias=True)\n",
            "          (1): GELU()\n",
            "          (2): Linear(in_features=3072, out_features=768, bias=True)\n",
            "        )\n",
            "      )\n",
            "      (norm1): LayerNorm()\n",
            "      (norm2): LayerNorm()\n",
            "      (drop_resid): Dropout(p=0.0, inplace=False)\n",
            "    )\n",
            "  )\n",
            "  (final_norm): LayerNorm()\n",
            "  (out_head): Linear(in_features=768, out_features=50257, bias=False)\n",
            ")\n"
          ]
        }
      ]
    },
    {
      "cell_type": "code",
      "source": [
        "# freeze model to make all layers non-trainable for finetuning\n",
        "\n",
        "for param in model.parameters():\n",
        "    param.requires_grad = False"
      ],
      "metadata": {
        "id": "bDZRuE4Po7Za"
      },
      "execution_count": 40,
      "outputs": []
    },
    {
      "cell_type": "markdown",
      "source": [
        "- Now, replace the output layer (model.out_head), which originally maps the layer inputs to 50,257 dimensions (the size of the vocabulary)\n",
        "- Since finetuning the model for binary classification (predicting 2 classes, \"spam\" and \"not spam\"),just replace the output layer\n",
        "- Using BASE_CONFIG[\"emb_dim\"] (which is equal to 768 in the \"gpt2-small (124M)\" model) to keep the code below more general"
      ],
      "metadata": {
        "id": "0BpagTiDpLQe"
      }
    },
    {
      "cell_type": "markdown",
      "source": [
        "**Fine-tuning selected layers vs. all layers**\n",
        "\n",
        "Since we start with a pretrained model, it’s not necessary to fine-tune all model layers.\n",
        "In neural network-based language models, the lower layers generally capture basic language\n",
        "structures and semantics applicable across a wide range of tasks and datasets.\n",
        "So, fine-tuning only the last layers (i.e., layers near the output), which are more specific\n",
        "to nuanced linguistic patterns and task-specific features, is often sufficient to adapt the\n",
        "model to new tasks. A nice side effect is that it is computationally more efficient to finetune\n",
        "only a small number of layers."
      ],
      "metadata": {
        "id": "LctWG1ZWrIri"
      }
    },
    {
      "cell_type": "code",
      "source": [
        "torch.manual_seed(123)\n",
        "\n",
        "num_classes = 2\n",
        "model.out_head = torch.nn.Linear(in_features=BASE_CONFIG[\"emb_dim\"], out_features=num_classes)"
      ],
      "metadata": {
        "id": "3rMa9ZwdpfcW"
      },
      "execution_count": 41,
      "outputs": []
    },
    {
      "cell_type": "markdown",
      "source": [
        "- Technically, it's sufficient to only train the output layer\n",
        "- However, experiments show that finetuning additional layers can noticeably improve the performance\n",
        "- So, making the last transformer block and the final LayerNorm module connecting the last transformer block to the output layer trainable"
      ],
      "metadata": {
        "id": "7KA84vU9pkAJ"
      }
    },
    {
      "cell_type": "code",
      "source": [
        "for param in model.trf_blocks[-1].parameters():\n",
        "    param.requires_grad = True\n",
        "\n",
        "for param in model.final_norm.parameters():\n",
        "    param.requires_grad = True"
      ],
      "metadata": {
        "id": "gnb49Wnmpw5A"
      },
      "execution_count": 42,
      "outputs": []
    },
    {
      "cell_type": "markdown",
      "source": [
        "Test with feeding some text input"
      ],
      "metadata": {
        "id": "YERsp1qCqVQl"
      }
    },
    {
      "cell_type": "code",
      "source": [
        "inputs = tokenizer.encode(\"Do you have time\")\n",
        "inputs = torch.tensor(inputs).unsqueeze(0)\n",
        "print(\"Inputs:\", inputs)\n",
        "print(\"Inputs dimensions:\", inputs.shape) # shape: (batch_size, num_tokens)"
      ],
      "metadata": {
        "colab": {
          "base_uri": "https://localhost:8080/"
        },
        "id": "heHWyRSyqFAM",
        "outputId": "46c8e1de-36cc-479b-8cf4-e62850ea36e8"
      },
      "execution_count": 43,
      "outputs": [
        {
          "output_type": "stream",
          "name": "stdout",
          "text": [
            "Inputs: tensor([[5211,  345,  423,  640]])\n",
            "Inputs dimensions: torch.Size([1, 4])\n"
          ]
        }
      ]
    },
    {
      "cell_type": "markdown",
      "source": [
        "It now has two output dimensions instead of 50,257"
      ],
      "metadata": {
        "id": "uzsoJcucqY7p"
      }
    },
    {
      "cell_type": "code",
      "source": [
        "with torch.no_grad():\n",
        "    outputs = model(inputs)\n",
        "\n",
        "print(\"Outputs:\\n\", outputs)\n",
        "print(\"Outputs dimensions:\", outputs.shape) # shape: (batch_size, num_tokens, num_classes)"
      ],
      "metadata": {
        "colab": {
          "base_uri": "https://localhost:8080/"
        },
        "id": "f5l0v6CbqGR_",
        "outputId": "f17b5c63-c458-440b-d1ba-09d257c48ad4"
      },
      "execution_count": 44,
      "outputs": [
        {
          "output_type": "stream",
          "name": "stdout",
          "text": [
            "Outputs:\n",
            " tensor([[[-1.5854,  0.9904],\n",
            "         [-3.7235,  7.4548],\n",
            "         [-2.2661,  6.6049],\n",
            "         [-3.5983,  3.9902]]])\n",
            "Outputs dimensions: torch.Size([1, 4, 2])\n"
          ]
        }
      ]
    },
    {
      "cell_type": "markdown",
      "source": [
        "Particularly interested in the last token which will be finetuned for the spam classification task"
      ],
      "metadata": {
        "id": "E8vdiWW_raUC"
      }
    },
    {
      "cell_type": "code",
      "source": [
        "print(\"Last output token:\", outputs[:, -1, :])"
      ],
      "metadata": {
        "colab": {
          "base_uri": "https://localhost:8080/"
        },
        "id": "b5GO9mhIrXiD",
        "outputId": "b92b2530-db4d-4fcf-9289-1b3f0389f785"
      },
      "execution_count": 45,
      "outputs": [
        {
          "output_type": "stream",
          "name": "stdout",
          "text": [
            "Last output token: tensor([[-3.5983,  3.9902]])\n"
          ]
        }
      ]
    },
    {
      "cell_type": "markdown",
      "source": [
        "![image.png](data:image/png;base64,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)"
      ],
      "metadata": {
        "id": "iP-c4sx3rsfH"
      }
    },
    {
      "cell_type": "markdown",
      "source": [
        "## Classification Loss and Accuracy"
      ],
      "metadata": {
        "id": "I0U-WFGpsRM9"
      }
    },
    {
      "cell_type": "markdown",
      "source": [
        "![image.png](data:image/png;base64,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)"
      ],
      "metadata": {
        "id": "8dGApPWDsiBT"
      }
    },
    {
      "cell_type": "code",
      "source": [
        "print(\"Last output token:\", outputs[:, -1, :])"
      ],
      "metadata": {
        "colab": {
          "base_uri": "https://localhost:8080/"
        },
        "id": "ktWJD6wjrtLa",
        "outputId": "5e1f2b52-877f-4c90-e3ee-4f6cd7341e48"
      },
      "execution_count": 46,
      "outputs": [
        {
          "output_type": "stream",
          "name": "stdout",
          "text": [
            "Last output token: tensor([[-3.5983,  3.9902]])\n"
          ]
        }
      ]
    },
    {
      "cell_type": "markdown",
      "source": [
        "Convert outputs (logits) into probability scores via the softmax function and then obtain the index position of the largest probability value via the argmax function"
      ],
      "metadata": {
        "id": "p3KWqmzNsuex"
      }
    },
    {
      "cell_type": "code",
      "source": [
        "probas = torch.softmax(outputs[:, -1, :], dim=-1)\n",
        "label = torch.argmax(probas)\n",
        "print(\"Class label:\", label.item())"
      ],
      "metadata": {
        "colab": {
          "base_uri": "https://localhost:8080/"
        },
        "id": "ftpnAQnysqeI",
        "outputId": "9026d9e5-780c-41b8-e0ba-5be68fdc398b"
      },
      "execution_count": 47,
      "outputs": [
        {
          "output_type": "stream",
          "name": "stdout",
          "text": [
            "Class label: 1\n"
          ]
        }
      ]
    },
    {
      "cell_type": "markdown",
      "source": [
        "Softmax function is optional here because the largest outputs correspond to the largest probability scores"
      ],
      "metadata": {
        "id": "169DvEGus3_O"
      }
    },
    {
      "cell_type": "code",
      "source": [
        "logits = outputs[:, -1, :]\n",
        "label = torch.argmax(logits)\n",
        "print(\"Class label:\", label.item())"
      ],
      "metadata": {
        "colab": {
          "base_uri": "https://localhost:8080/"
        },
        "id": "ds4fDMy8s9XQ",
        "outputId": "1f281f0d-886a-44fe-b729-de983227e61d"
      },
      "execution_count": 48,
      "outputs": [
        {
          "output_type": "stream",
          "name": "stdout",
          "text": [
            "Class label: 1\n"
          ]
        }
      ]
    },
    {
      "cell_type": "markdown",
      "source": [
        "- To calculate the classification accuracy which computes percentage of correct predictions in a given dataset, apply argmax-based prediction code to all examples in a dataset and calculate the fraction of correct predictions as follows"
      ],
      "metadata": {
        "id": "QnrqTJm5tRzE"
      }
    },
    {
      "cell_type": "code",
      "source": [
        "def calc_accuracy_loader(data_loader, model, device, num_batches=None):\n",
        "    model.eval()\n",
        "    correct_predictions, num_examples = 0, 0\n",
        "\n",
        "    if num_batches is None:\n",
        "        num_batches = len(data_loader)\n",
        "    else:\n",
        "        num_batches = min(num_batches, len(data_loader))\n",
        "    for i, (input_batch, target_batch) in enumerate(data_loader):\n",
        "        if i < num_batches:\n",
        "            input_batch, target_batch = input_batch.to(device), target_batch.to(device)\n",
        "\n",
        "            with torch.no_grad():\n",
        "                logits = model(input_batch)[:, -1, :]  # Logits of last output token\n",
        "            predicted_labels = torch.argmax(logits, dim=-1)\n",
        "\n",
        "            num_examples += predicted_labels.shape[0]\n",
        "            correct_predictions += (predicted_labels == target_batch).sum().item()\n",
        "        else:\n",
        "            break\n",
        "    return correct_predictions / num_examples"
      ],
      "metadata": {
        "id": "DRfvrMFvtV0b"
      },
      "execution_count": 49,
      "outputs": []
    },
    {
      "cell_type": "code",
      "source": [
        "device = torch.device(\"cuda\" if torch.cuda.is_available() else \"cpu\")\n",
        "\n",
        "# Uncommenting the following lines will allow the code to run on Apple Silicon chips, if applicable,\n",
        "# which is approximately 2x faster than on an Apple CPU (M3 MacBook Air).\n",
        "\n",
        "#if torch.cuda.is_available():\n",
        "#    device = torch.device(\"cuda\")\n",
        "#elif torch.backends.mps.is_available():\n",
        "#    device = torch.device(\"mps\")\n",
        "#else:\n",
        "#    device = torch.device(\"cpu\")\n",
        "#print(f\"Running on {device} device.\")\n",
        "\n",
        "model.to(device) # no assignment model = model.to(device) necessary for nn.Module classes\n",
        "\n",
        "torch.manual_seed(123) # For reproducibility due to the shuffling in the training data loader\n",
        "\n",
        "train_accuracy = calc_accuracy_loader(train_loader, model, device, num_batches=10)\n",
        "val_accuracy = calc_accuracy_loader(val_loader, model, device, num_batches=10)\n",
        "test_accuracy = calc_accuracy_loader(test_loader, model, device, num_batches=10)\n",
        "\n",
        "print(f\"Training accuracy: {train_accuracy*100:.2f}%\")\n",
        "print(f\"Validation accuracy: {val_accuracy*100:.2f}%\")\n",
        "print(f\"Test accuracy: {test_accuracy*100:.2f}%\")"
      ],
      "metadata": {
        "colab": {
          "base_uri": "https://localhost:8080/"
        },
        "id": "nDzGGkO4c8r7",
        "outputId": "011952a7-99a1-4e23-8604-235e72fac83e"
      },
      "execution_count": 50,
      "outputs": [
        {
          "output_type": "stream",
          "name": "stdout",
          "text": [
            "Training accuracy: 46.25%\n",
            "Validation accuracy: 45.00%\n",
            "Test accuracy: 48.75%\n"
          ]
        }
      ]
    },
    {
      "cell_type": "markdown",
      "source": [
        "- Prediction accuracies are not very good, since we haven't finetuned the model, yet\n",
        "- The goal is to maximize the spam classification accuracy of the model; however, classification accuracy is not a differentiable function\n",
        "- Hence, instead, minimize the cross-entropy loss as a proxy for maximizing the classification accuracy"
      ],
      "metadata": {
        "id": "YaBXD7oTd87g"
      }
    },
    {
      "cell_type": "code",
      "source": [
        "def calc_loss_batch(input_batch, target_batch, model, device):\n",
        "    input_batch, target_batch = input_batch.to(device), target_batch.to(device)\n",
        "    logits = model(input_batch)[:, -1, :]  # Logits of last output token\n",
        "    loss = torch.nn.functional.cross_entropy(logits, target_batch)\n",
        "    return loss"
      ],
      "metadata": {
        "id": "ay3gfeAPeZEz"
      },
      "execution_count": 51,
      "outputs": []
    },
    {
      "cell_type": "code",
      "source": [
        "def calc_loss_loader(data_loader, model, device, num_batches=None):\n",
        "    total_loss = 0.\n",
        "    if len(data_loader) == 0:\n",
        "        return float(\"nan\")\n",
        "    elif num_batches is None:\n",
        "        num_batches = len(data_loader)\n",
        "    else:\n",
        "        # Reduce the number of batches to match the total number of batches in the data loader\n",
        "        # if num_batches exceeds the number of batches in the data loader\n",
        "        num_batches = min(num_batches, len(data_loader))\n",
        "    for i, (input_batch, target_batch) in enumerate(data_loader):\n",
        "        if i < num_batches:\n",
        "            loss = calc_loss_batch(input_batch, target_batch, model, device)\n",
        "            total_loss += loss.item()\n",
        "        else:\n",
        "            break\n",
        "    return total_loss / num_batches"
      ],
      "metadata": {
        "id": "_DRtM09eegOZ"
      },
      "execution_count": 52,
      "outputs": []
    },
    {
      "cell_type": "markdown",
      "source": [
        "Using `calc_closs_loader`, compute the initial training, validation, and test set losses before start training"
      ],
      "metadata": {
        "id": "ZRgfu-ZEewqu"
      }
    },
    {
      "cell_type": "code",
      "source": [
        "with torch.no_grad(): # Disable gradient tracking for efficiency because we are not training, yet\n",
        "    train_loss = calc_loss_loader(train_loader, model, device, num_batches=5)\n",
        "    val_loss = calc_loss_loader(val_loader, model, device, num_batches=5)\n",
        "    test_loss = calc_loss_loader(test_loader, model, device, num_batches=5)\n",
        "\n",
        "print(f\"Training loss: {train_loss:.3f}\")\n",
        "print(f\"Validation loss: {val_loss:.3f}\")\n",
        "print(f\"Test loss: {test_loss:.3f}\")"
      ],
      "metadata": {
        "colab": {
          "base_uri": "https://localhost:8080/"
        },
        "id": "IMcZcZ4OeuIq",
        "outputId": "ee508585-39c6-479d-fb2e-05b9464cabdc"
      },
      "execution_count": 53,
      "outputs": [
        {
          "output_type": "stream",
          "name": "stdout",
          "text": [
            "Training loss: 2.453\n",
            "Validation loss: 2.583\n",
            "Test loss: 2.322\n"
          ]
        }
      ]
    },
    {
      "cell_type": "markdown",
      "source": [
        "## Finetuning Model"
      ],
      "metadata": {
        "id": "CycAvBtrfJSE"
      }
    },
    {
      "cell_type": "markdown",
      "source": [
        "![image.png](data:image/png;base64,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)"
      ],
      "metadata": {
        "id": "1H38xf3xfVSl"
      }
    },
    {
      "cell_type": "code",
      "source": [
        "def evaluate_model(model, train_loader, val_loader, device, eval_iter):\n",
        "    model.eval()\n",
        "    with torch.no_grad():\n",
        "        train_loss = calc_loss_loader(train_loader, model, device, num_batches=eval_iter)\n",
        "        val_loss = calc_loss_loader(val_loader, model, device, num_batches=eval_iter)\n",
        "    model.train()\n",
        "    return train_loss, val_loss"
      ],
      "metadata": {
        "id": "AISewhWzfk2b"
      },
      "execution_count": 54,
      "outputs": []
    },
    {
      "cell_type": "code",
      "source": [
        "def train_classifier_simple(model, train_loader, val_loader, optimizer, device, num_epochs,\n",
        "                            eval_freq, eval_iter):\n",
        "    # Initialize lists to track losses and examples seen\n",
        "    train_losses, val_losses, train_accs, val_accs = [], [], [], []\n",
        "    examples_seen, global_step = 0, -1\n",
        "\n",
        "    # Main training loop\n",
        "    for epoch in range(num_epochs):\n",
        "        model.train()  # Set model to training mode\n",
        "\n",
        "        for input_batch, target_batch in train_loader:\n",
        "            optimizer.zero_grad() # Reset loss gradients from previous batch iteration\n",
        "            loss = calc_loss_batch(input_batch, target_batch, model, device)\n",
        "            loss.backward() # Calculate loss gradients\n",
        "            optimizer.step() # Update model weights using loss gradients\n",
        "            examples_seen += input_batch.shape[0] # New: track examples instead of tokens\n",
        "            global_step += 1\n",
        "\n",
        "            # Optional evaluation step\n",
        "            if global_step % eval_freq == 0:\n",
        "                train_loss, val_loss = evaluate_model(\n",
        "                    model, train_loader, val_loader, device, eval_iter)\n",
        "                train_losses.append(train_loss)\n",
        "                val_losses.append(val_loss)\n",
        "                print(f\"Ep {epoch+1} (Step {global_step:06d}): \"\n",
        "                      f\"Train loss {train_loss:.3f}, Val loss {val_loss:.3f}\")\n",
        "\n",
        "        # Calculate accuracy after each epoch\n",
        "        train_accuracy = calc_accuracy_loader(train_loader, model, device, num_batches=eval_iter)\n",
        "        val_accuracy = calc_accuracy_loader(val_loader, model, device, num_batches=eval_iter)\n",
        "        print(f\"Training accuracy: {train_accuracy*100:.2f}% | \", end=\"\")\n",
        "        print(f\"Validation accuracy: {val_accuracy*100:.2f}%\")\n",
        "        train_accs.append(train_accuracy)\n",
        "        val_accs.append(val_accuracy)\n",
        "\n",
        "    return train_losses, val_losses, train_accs, val_accs, examples_seen"
      ],
      "metadata": {
        "id": "5YXGFgKMfPKH"
      },
      "execution_count": 55,
      "outputs": []
    },
    {
      "cell_type": "code",
      "source": [
        "import time\n",
        "\n",
        "start_time = time.time()\n",
        "\n",
        "torch.manual_seed(123)\n",
        "\n",
        "optimizer = torch.optim.AdamW(model.parameters(), lr=5e-5, weight_decay=0.1)\n",
        "\n",
        "num_epochs = 5\n",
        "train_losses, val_losses, train_accs, val_accs, examples_seen = train_classifier_simple(\n",
        "    model, train_loader, val_loader, optimizer, device,\n",
        "    num_epochs=num_epochs, eval_freq=50, eval_iter=5,\n",
        ")\n",
        "\n",
        "end_time = time.time()\n",
        "execution_time_minutes = (end_time - start_time) / 60\n",
        "print(f\"Training completed in {execution_time_minutes:.2f} minutes.\")"
      ],
      "metadata": {
        "colab": {
          "base_uri": "https://localhost:8080/"
        },
        "id": "bO6TBPasgA_a",
        "outputId": "22619a15-26b8-4c86-da80-345156506736"
      },
      "execution_count": 56,
      "outputs": [
        {
          "output_type": "stream",
          "name": "stdout",
          "text": [
            "Ep 1 (Step 000000): Train loss 2.153, Val loss 2.392\n",
            "Ep 1 (Step 000050): Train loss 0.617, Val loss 0.637\n",
            "Ep 1 (Step 000100): Train loss 0.523, Val loss 0.557\n",
            "Training accuracy: 70.00% | Validation accuracy: 72.50%\n",
            "Ep 2 (Step 000150): Train loss 0.561, Val loss 0.489\n",
            "Ep 2 (Step 000200): Train loss 0.419, Val loss 0.397\n",
            "Ep 2 (Step 000250): Train loss 0.409, Val loss 0.353\n",
            "Training accuracy: 82.50% | Validation accuracy: 85.00%\n",
            "Ep 3 (Step 000300): Train loss 0.333, Val loss 0.320\n",
            "Ep 3 (Step 000350): Train loss 0.340, Val loss 0.306\n",
            "Training accuracy: 90.00% | Validation accuracy: 90.00%\n",
            "Ep 4 (Step 000400): Train loss 0.136, Val loss 0.200\n",
            "Ep 4 (Step 000450): Train loss 0.153, Val loss 0.132\n",
            "Ep 4 (Step 000500): Train loss 0.222, Val loss 0.137\n",
            "Training accuracy: 100.00% | Validation accuracy: 97.50%\n",
            "Ep 5 (Step 000550): Train loss 0.207, Val loss 0.143\n",
            "Ep 5 (Step 000600): Train loss 0.083, Val loss 0.074\n",
            "Training accuracy: 100.00% | Validation accuracy: 97.50%\n",
            "Training completed in 56.38 minutes.\n"
          ]
        }
      ]
    },
    {
      "cell_type": "code",
      "source": [
        "import matplotlib.pyplot as plt\n",
        "\n",
        "def plot_values(epochs_seen, examples_seen, train_values, val_values, label=\"loss\"):\n",
        "    fig, ax1 = plt.subplots(figsize=(5, 3))\n",
        "\n",
        "    # Plot training and validation loss against epochs\n",
        "    ax1.plot(epochs_seen, train_values, label=f\"Training {label}\")\n",
        "    ax1.plot(epochs_seen, val_values, linestyle=\"-.\", label=f\"Validation {label}\")\n",
        "    ax1.set_xlabel(\"Epochs\")\n",
        "    ax1.set_ylabel(label.capitalize())\n",
        "    ax1.legend()\n",
        "\n",
        "    # Create a second x-axis for examples seen\n",
        "    ax2 = ax1.twiny()  # Create a second x-axis that shares the same y-axis\n",
        "    ax2.plot(examples_seen, train_values, alpha=0)  # Invisible plot for aligning ticks\n",
        "    ax2.set_xlabel(\"Examples seen\")\n",
        "\n",
        "    fig.tight_layout()  # Adjust layout to make room\n",
        "    plt.savefig(f\"{label}-plot.pdf\")\n",
        "    plt.show()"
      ],
      "metadata": {
        "id": "F3XjOdYzgHtr"
      },
      "execution_count": 57,
      "outputs": []
    },
    {
      "cell_type": "code",
      "source": [
        "epochs_tensor = torch.linspace(0, num_epochs, len(train_losses))\n",
        "examples_seen_tensor = torch.linspace(0, examples_seen, len(train_losses))\n",
        "\n",
        "plot_values(epochs_tensor, examples_seen_tensor, train_losses, val_losses)"
      ],
      "metadata": {
        "colab": {
          "base_uri": "https://localhost:8080/",
          "height": 307
        },
        "id": "sa4Z1U8_gjZS",
        "outputId": "4baed49a-076f-4e79-ac1d-fbe822958013"
      },
      "execution_count": 58,
      "outputs": [
        {
          "output_type": "display_data",
          "data": {
            "text/plain": [
              "<Figure size 500x300 with 2 Axes>"
            ],
            "image/png": "[encoded data removed]"
          },
          "metadata": {}
        }
      ]
    },
    {
      "cell_type": "markdown",
      "source": [
        "- Based on the downward slope, we see that the model learns well\n",
        "- As training and validation loss are very close indicating that the model does not tend to overfit the training data"
      ],
      "metadata": {
        "id": "iqRHtwKMg1Kj"
      }
    },
    {
      "cell_type": "code",
      "source": [
        "#  accuracy plot\n",
        "epochs_tensor = torch.linspace(0, num_epochs, len(train_accs))\n",
        "examples_seen_tensor = torch.linspace(0, examples_seen, len(train_accs))\n",
        "\n",
        "plot_values(epochs_tensor, examples_seen_tensor, train_accs, val_accs, label=\"accuracy\")"
      ],
      "metadata": {
        "colab": {
          "base_uri": "https://localhost:8080/",
          "height": 307
        },
        "id": "vCCObEr4hC1g",
        "outputId": "e678c19f-4ce2-48e3-b5df-750b15187152"
      },
      "execution_count": 59,
      "outputs": [
        {
          "output_type": "display_data",
          "data": {
            "text/plain": [
              "<Figure size 500x300 with 2 Axes>"
            ],
            "image/png": "[encoded data removed]"
          },
          "metadata": {}
        }
      ]
    },
    {
      "cell_type": "markdown",
      "source": [
        "- Based on the accuracy plot above, we can see that the model achieves a relatively high training and validation accuracy after epochs 4 and 5\n",
        "- However, keep in mind eval_iter=5 is specified in the training function earlier, which means that we only estimated the training and validation set performances\n",
        "- Computing training, validation, and test set performances over the complete dataset as follows"
      ],
      "metadata": {
        "id": "GQC8Sj7UhRzy"
      }
    },
    {
      "cell_type": "code",
      "source": [
        "train_accuracy = calc_accuracy_loader(train_loader, model, device)\n",
        "val_accuracy = calc_accuracy_loader(val_loader, model, device)\n",
        "test_accuracy = calc_accuracy_loader(test_loader, model, device)\n",
        "\n",
        "print(f\"Training accuracy: {train_accuracy*100:.2f}%\")\n",
        "print(f\"Validation accuracy: {val_accuracy*100:.2f}%\")\n",
        "print(f\"Test accuracy: {test_accuracy*100:.2f}%\")"
      ],
      "metadata": {
        "colab": {
          "base_uri": "https://localhost:8080/"
        },
        "id": "XyjGdDgfhvT_",
        "outputId": "a4c8a0d1-cb7e-400b-e685-6291373b9222"
      },
      "execution_count": 60,
      "outputs": [
        {
          "output_type": "stream",
          "name": "stdout",
          "text": [
            "Training accuracy: 97.21%\n",
            "Validation accuracy: 97.32%\n",
            "Test accuracy: 95.67%\n"
          ]
        }
      ]
    },
    {
      "cell_type": "markdown",
      "source": [
        "- Training and validation set performances are practically identical\n",
        "- However, based on the slightly lower test set performance, model overfits the training data to a very small degree, as well as the validation data that has been used for tweaking some of the hyperparameters, such as the learning rate\n",
        "- This is normal, however, and this gap could potentially be further reduced by increasing the model's dropout rate (`drop_rate`) or the `weight_decay` in the optimizer setting"
      ],
      "metadata": {
        "id": "2TUJ-v6bh-e1"
      }
    },
    {
      "cell_type": "markdown",
      "source": [
        "## Using Finetuned Model"
      ],
      "metadata": {
        "id": "XekerqJBiatQ"
      }
    },
    {
      "cell_type": "code",
      "source": [
        "def classify_review(text, model, tokenizer, device, max_length=None, pad_token_id=50256):\n",
        "    model.eval()\n",
        "\n",
        "    # Prepare inputs to the model\n",
        "    input_ids = tokenizer.encode(text)\n",
        "    supported_context_length = model.pos_emb.weight.shape[0]  # pos_emb size = context_length X d_in/out , i.e., 1024 X 768 here\n",
        "\n",
        "\n",
        "    # Truncate sequences if they are too long\n",
        "    input_ids = input_ids[:min(max_length, supported_context_length)]\n",
        "    assert max_length is not None, (\n",
        "        \"max_length must be specified. If you want to use the full model context, \"\n",
        "        \"pass max_length=model.pos_emb.weight.shape[0].\"\n",
        "    )\n",
        "    assert max_length <= supported_context_length, (\n",
        "        f\"max_length ({max_length}) exceeds model's supported context length ({supported_context_length}).\"\n",
        "    )\n",
        "    # Alternatively, a more robust version is the following one, which handles the max_length=None case better\n",
        "    # max_len = min(max_length,supported_context_length) if max_length else supported_context_length\n",
        "    # input_ids = input_ids[:max_len]\n",
        "\n",
        "    # Pad sequences to the longest sequence\n",
        "    input_ids += [pad_token_id] * (max_length - len(input_ids))\n",
        "    input_tensor = torch.tensor(input_ids, device=device).unsqueeze(0) # add batch dimension\n",
        "\n",
        "    # Model inference\n",
        "    with torch.no_grad():\n",
        "        logits = model(input_tensor)[:, -1, :]  # Logits of the last output token\n",
        "    predicted_label = torch.argmax(logits, dim=-1).item()\n",
        "\n",
        "    # Return the classified result\n",
        "    return \"spam\" if predicted_label == 1 else \"not spam\""
      ],
      "metadata": {
        "id": "vhpumW7uiUPE"
      },
      "execution_count": 61,
      "outputs": []
    },
    {
      "cell_type": "markdown",
      "source": [
        "Trying few examples :"
      ],
      "metadata": {
        "id": "ZUC-t6tRjwOi"
      }
    },
    {
      "cell_type": "code",
      "source": [
        "text_1 = (\n",
        "    \"You are a winner you have been specially\"\n",
        "    \" selected to receive $1000 cash or a $2000 award.\"\n",
        ")\n",
        "\n",
        "print(classify_review(\n",
        "    text_1, model, tokenizer, device, max_length=train_dataset.max_length\n",
        "))"
      ],
      "metadata": {
        "colab": {
          "base_uri": "https://localhost:8080/"
        },
        "id": "VqHs_wcejvd5",
        "outputId": "2349bdb6-2c07-47bb-df73-84be8db72001"
      },
      "execution_count": 62,
      "outputs": [
        {
          "output_type": "stream",
          "name": "stdout",
          "text": [
            "spam\n"
          ]
        }
      ]
    },
    {
      "cell_type": "code",
      "source": [
        "text_2 = (\n",
        "    \"Hey, just wanted to check if we're still on\"\n",
        "    \" for dinner tonight? Let me know!\"\n",
        ")\n",
        "\n",
        "print(classify_review(\n",
        "    text_2, model, tokenizer, device, max_length=train_dataset.max_length\n",
        "))"
      ],
      "metadata": {
        "colab": {
          "base_uri": "https://localhost:8080/"
        },
        "id": "8kkUSGYpjy0W",
        "outputId": "9c3f3e97-1dfe-4e5b-a671-2993f685b27d"
      },
      "execution_count": 63,
      "outputs": [
        {
          "output_type": "stream",
          "name": "stdout",
          "text": [
            "not spam\n"
          ]
        }
      ]
    },
    {
      "cell_type": "code",
      "source": [
        "# Save model\n",
        "\n",
        "torch.save(model.state_dict(), \"review_classifier.pth\")"
      ],
      "metadata": {
        "id": "zwsVWwOEj39x"
      },
      "execution_count": 64,
      "outputs": []
    },
    {
      "cell_type": "code",
      "source": [
        "# Load model\n",
        "\n",
        "model_state_dict = torch.load(\"review_classifier.pth\", map_location=device, weights_only=True)\n",
        "model.load_state_dict(model_state_dict)"
      ],
      "metadata": {
        "colab": {
          "base_uri": "https://localhost:8080/"
        },
        "id": "xHN2IoOcj6GS",
        "outputId": "6046f06e-7a36-47a4-d0eb-913278cab9c6"
      },
      "execution_count": 65,
      "outputs": [
        {
          "output_type": "execute_result",
          "data": {
            "text/plain": [
              "<All keys matched successfully>"
            ]
          },
          "metadata": {},
          "execution_count": 65
        }
      ]
    }
  ]
}